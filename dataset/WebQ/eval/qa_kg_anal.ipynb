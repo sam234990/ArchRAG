{
 "cells": [
  {
   "cell_type": "code",
   "execution_count": null,
   "metadata": {},
   "outputs": [
    {
     "data": {
      "text/html": [
       "<div>\n",
       "<style scoped>\n",
       "    .dataframe tbody tr th:only-of-type {\n",
       "        vertical-align: middle;\n",
       "    }\n",
       "\n",
       "    .dataframe tbody tr th {\n",
       "        vertical-align: top;\n",
       "    }\n",
       "\n",
       "    .dataframe thead th {\n",
       "        text-align: right;\n",
       "    }\n",
       "</style>\n",
       "<table border=\"1\" class=\"dataframe\">\n",
       "  <thead>\n",
       "    <tr style=\"text-align: right;\">\n",
       "      <th></th>\n",
       "      <th>question</th>\n",
       "      <th>answers</th>\n",
       "      <th>raw_result</th>\n",
       "      <th>pred</th>\n",
       "      <th>label</th>\n",
       "    </tr>\n",
       "  </thead>\n",
       "  <tbody>\n",
       "    <tr>\n",
       "      <th>0</th>\n",
       "      <td>what does jamaican people speak?</td>\n",
       "      <td>['Jamaican Creole English Language', 'Jamaican...</td>\n",
       "      <td>---Direct Answer---: English | Patois\\n---Brie...</td>\n",
       "      <td>English | Patois</td>\n",
       "      <td>Jamaican Creole English Language|Jamaican English</td>\n",
       "    </tr>\n",
       "    <tr>\n",
       "      <th>1</th>\n",
       "      <td>what did james k polk do before he was president?</td>\n",
       "      <td>['Lawyer']</td>\n",
       "      <td>---Direct Answer---: lawyer | politician\\n---B...</td>\n",
       "      <td>lawyer | politician</td>\n",
       "      <td>Lawyer</td>\n",
       "    </tr>\n",
       "  </tbody>\n",
       "</table>\n",
       "</div>"
      ],
      "text/plain": [
       "                                            question  \\\n",
       "0                   what does jamaican people speak?   \n",
       "1  what did james k polk do before he was president?   \n",
       "\n",
       "                                             answers  \\\n",
       "0  ['Jamaican Creole English Language', 'Jamaican...   \n",
       "1                                         ['Lawyer']   \n",
       "\n",
       "                                          raw_result                 pred  \\\n",
       "0  ---Direct Answer---: English | Patois\\n---Brie...     English | Patois   \n",
       "1  ---Direct Answer---: lawyer | politician\\n---B...  lawyer | politician   \n",
       "\n",
       "                                               label  \n",
       "0  Jamaican Creole English Language|Jamaican English  \n",
       "1                                             Lawyer  "
      ]
     },
     "execution_count": 2,
     "metadata": {},
     "output_type": "execute_result"
    }
   ],
   "source": [
    "import pandas as pd\n",
    "import os\n",
    "import sys\n",
    "from tqdm import tqdm\n",
    "\n",
    "\n",
    "project_path = \"/home/wangshu/rag/hier_graph_rag\"\n",
    "sys.path.append(os.path.abspath(project_path))\n",
    "from src.evaluate.evaluate import get_accuracy_webqsp_qa\n",
    "\n",
    "direct_res_path = \"/mnt/data/wangshu/hcarag/FB15k/hc_index_8b/qa/global_5_15_10_15_direct_QA_.json\"\n",
    "direct_df = pd.read_csv(direct_res_path)\n",
    "zero_df = pd.read_csv(\"/mnt/data/wangshu/hcarag/FB15k/webqa/baseline/zero-shot.csv\")\n",
    "entity_df_path = \"/mnt/data/wangshu/hcarag/FB15k/KG/entity_df.csv\"\n",
    "entity_df = pd.read_csv(entity_df_path)\n",
    "community_df_path = \"/mnt/data/wangshu/hcarag/FB15k/hc_index_8b/community_df_index.csv\"\n",
    "community_df = pd.read_csv(community_df_path)\n",
    "\n",
    "direct_df.head(2)"
   ]
  },
  {
   "cell_type": "code",
   "execution_count": 3,
   "metadata": {},
   "outputs": [
    {
     "data": {
      "text/html": [
       "<div>\n",
       "<style scoped>\n",
       "    .dataframe tbody tr th:only-of-type {\n",
       "        vertical-align: middle;\n",
       "    }\n",
       "\n",
       "    .dataframe tbody tr th {\n",
       "        vertical-align: top;\n",
       "    }\n",
       "\n",
       "    .dataframe thead th {\n",
       "        text-align: right;\n",
       "    }\n",
       "</style>\n",
       "<table border=\"1\" class=\"dataframe\">\n",
       "  <thead>\n",
       "    <tr style=\"text-align: right;\">\n",
       "      <th></th>\n",
       "      <th>id</th>\n",
       "      <th>question</th>\n",
       "      <th>label</th>\n",
       "      <th>pred</th>\n",
       "    </tr>\n",
       "  </thead>\n",
       "  <tbody>\n",
       "    <tr>\n",
       "      <th>0</th>\n",
       "      <td>0</td>\n",
       "      <td>what does jamaican people speak?</td>\n",
       "      <td>jamaican creole english language|jamaican english</td>\n",
       "      <td>Jamaican people primarily speak a dialect of E...</td>\n",
       "    </tr>\n",
       "    <tr>\n",
       "      <th>1</th>\n",
       "      <td>1</td>\n",
       "      <td>what did james k polk do before he was president?</td>\n",
       "      <td>lawyer</td>\n",
       "      <td>Before becoming the President of the United St...</td>\n",
       "    </tr>\n",
       "    <tr>\n",
       "      <th>2</th>\n",
       "      <td>2</td>\n",
       "      <td>what is the oregon ducks 2012 football schedule?</td>\n",
       "      <td>university of oregon</td>\n",
       "      <td>The Oregon Ducks' 2012 football schedule was:\\...</td>\n",
       "    </tr>\n",
       "    <tr>\n",
       "      <th>3</th>\n",
       "      <td>3</td>\n",
       "      <td>who plays ken barlow in coronation street?</td>\n",
       "      <td>tony warren</td>\n",
       "      <td>Barry Evans (1974-1978) and then William Roach...</td>\n",
       "    </tr>\n",
       "    <tr>\n",
       "      <th>4</th>\n",
       "      <td>4</td>\n",
       "      <td>what happened after mr. sugihara died?</td>\n",
       "      <td>yaotsu</td>\n",
       "      <td>You're referring to Chiune Sugihara, the Japan...</td>\n",
       "    </tr>\n",
       "    <tr>\n",
       "      <th>...</th>\n",
       "      <td>...</td>\n",
       "      <td>...</td>\n",
       "      <td>...</td>\n",
       "      <td>...</td>\n",
       "    </tr>\n",
       "    <tr>\n",
       "      <th>2027</th>\n",
       "      <td>2027</td>\n",
       "      <td>what team did david beckham play for before la...</td>\n",
       "      <td>preston north end f.c.</td>\n",
       "      <td>Before joining the LA Galaxy, David Beckham pl...</td>\n",
       "    </tr>\n",
       "    <tr>\n",
       "      <th>2028</th>\n",
       "      <td>2028</td>\n",
       "      <td>who is the current leader of france 2010?</td>\n",
       "      <td>nicolas sarkozy</td>\n",
       "      <td>The answer to this question would be:\\n\\nNicol...</td>\n",
       "    </tr>\n",
       "    <tr>\n",
       "      <th>2029</th>\n",
       "      <td>2029</td>\n",
       "      <td>where was the palace of knossos located?</td>\n",
       "      <td>crete|greece</td>\n",
       "      <td>The Palace of Knossos is an ancient Minoan pal...</td>\n",
       "    </tr>\n",
       "    <tr>\n",
       "      <th>2030</th>\n",
       "      <td>2030</td>\n",
       "      <td>where is roswell area 51?</td>\n",
       "      <td>roswell</td>\n",
       "      <td>A question that sparks curiosity and conspirac...</td>\n",
       "    </tr>\n",
       "    <tr>\n",
       "      <th>2031</th>\n",
       "      <td>2031</td>\n",
       "      <td>when was father chris riley born?</td>\n",
       "      <td>1967</td>\n",
       "      <td>I cannot verify the birth year of Father Chris...</td>\n",
       "    </tr>\n",
       "  </tbody>\n",
       "</table>\n",
       "<p>2032 rows × 4 columns</p>\n",
       "</div>"
      ],
      "text/plain": [
       "        id                                           question  \\\n",
       "0        0                   what does jamaican people speak?   \n",
       "1        1  what did james k polk do before he was president?   \n",
       "2        2   what is the oregon ducks 2012 football schedule?   \n",
       "3        3         who plays ken barlow in coronation street?   \n",
       "4        4             what happened after mr. sugihara died?   \n",
       "...    ...                                                ...   \n",
       "2027  2027  what team did david beckham play for before la...   \n",
       "2028  2028          who is the current leader of france 2010?   \n",
       "2029  2029           where was the palace of knossos located?   \n",
       "2030  2030                          where is roswell area 51?   \n",
       "2031  2031                  when was father chris riley born?   \n",
       "\n",
       "                                                  label  \\\n",
       "0     jamaican creole english language|jamaican english   \n",
       "1                                                lawyer   \n",
       "2                                  university of oregon   \n",
       "3                                           tony warren   \n",
       "4                                                yaotsu   \n",
       "...                                                 ...   \n",
       "2027                             preston north end f.c.   \n",
       "2028                                    nicolas sarkozy   \n",
       "2029                                       crete|greece   \n",
       "2030                                            roswell   \n",
       "2031                                               1967   \n",
       "\n",
       "                                                   pred  \n",
       "0     Jamaican people primarily speak a dialect of E...  \n",
       "1     Before becoming the President of the United St...  \n",
       "2     The Oregon Ducks' 2012 football schedule was:\\...  \n",
       "3     Barry Evans (1974-1978) and then William Roach...  \n",
       "4     You're referring to Chiune Sugihara, the Japan...  \n",
       "...                                                 ...  \n",
       "2027  Before joining the LA Galaxy, David Beckham pl...  \n",
       "2028  The answer to this question would be:\\n\\nNicol...  \n",
       "2029  The Palace of Knossos is an ancient Minoan pal...  \n",
       "2030  A question that sparks curiosity and conspirac...  \n",
       "2031  I cannot verify the birth year of Father Chris...  \n",
       "\n",
       "[2032 rows x 4 columns]"
      ]
     },
     "execution_count": 3,
     "metadata": {},
     "output_type": "execute_result"
    }
   ],
   "source": [
    "zero_df\n"
   ]
  },
  {
   "cell_type": "code",
   "execution_count": null,
   "metadata": {},
   "outputs": [],
   "source": []
  },
  {
   "cell_type": "code",
   "execution_count": 2,
   "metadata": {},
   "outputs": [
    {
     "name": "stdout",
     "output_type": "stream",
     "text": [
      "Sire Records, American record label Theodore Bikel, Austrian-American actor, folk singer, musician, \n"
     ]
    }
   ],
   "source": [
    "entity_df_description = entity_df[\"node_description\"].values\n",
    "entity_df_description = \" \".join(entity_df_description)\n",
    "print(entity_df_description[0:100])"
   ]
  },
  {
   "cell_type": "code",
   "execution_count": 3,
   "metadata": {},
   "outputs": [
    {
     "name": "stdout",
     "output_type": "stream",
     "text": [
      "The community revolves around Equation, a mathematical statement that asserts the equality of two ex\n"
     ]
    }
   ],
   "source": [
    "community_df_summary = community_df[\"summary\"].values\n",
    "community_title = community_df['title'].values\n",
    "\n",
    "community_content = \" \".join(community_df_summary) + \" \".join(community_title)\n",
    "print(community_content[0:100])"
   ]
  },
  {
   "cell_type": "code",
   "execution_count": 5,
   "metadata": {},
   "outputs": [
    {
     "name": "stdout",
     "output_type": "stream",
     "text": [
      "282.9520782396088\n",
      "58.04563815463114\n"
     ]
    }
   ],
   "source": [
    "text_length = []\n",
    "for _, row in community_df.iterrows():\n",
    "    text_length.append(len(row[\"summary\"]) + len(row[\"title\"]))\n",
    "\n",
    "community_mean_text_length = sum(text_length) / len(text_length)\n",
    "print(community_mean_text_length)\n",
    "\n",
    "text_length_entity = []\n",
    "for _, row in entity_df.iterrows():\n",
    "    text_length_entity.append(len(row[\"node_description\"]))\n",
    "entity_mean_text_length = sum(text_length_entity) / len(text_length_entity)\n",
    "print(entity_mean_text_length)\n"
   ]
  },
  {
   "cell_type": "code",
   "execution_count": null,
   "metadata": {},
   "outputs": [
    {
     "name": "stdout",
     "output_type": "stream",
     "text": [
      "<class 'pandas.core.series.Series'>\n"
     ]
    },
    {
     "name": "stderr",
     "output_type": "stream",
     "text": [
      "2032it [00:03, 533.09it/s]"
     ]
    },
    {
     "name": "stdout",
     "output_type": "stream",
     "text": [
      "1080\n",
      "0.531496062992126\n",
      "2032\n",
      "796\n",
      "0.39173228346456695\n"
     ]
    },
    {
     "name": "stderr",
     "output_type": "stream",
     "text": [
      "\n"
     ]
    }
   ],
   "source": [
    "\n",
    "cnt_entity = 0\n",
    "cnt_community = 0\n",
    "\n",
    "direct_df['answers_lists'] = direct_df['answers'].apply(lambda x: eval(x))\n",
    "print(type(direct_df['answers_lists']))\n",
    "\n",
    "for _, row in tqdm(direct_df.iterrows()):\n",
    "    answer = row[\"answers_lists\"]\n",
    "    for ans in answer:\n",
    "        if ans in entity_df_description:\n",
    "            cnt_entity += 1\n",
    "            break\n",
    "        \n",
    "    for ans in answer:\n",
    "        if ans in community_content:\n",
    "            cnt_community += 1\n",
    "            break\n",
    "        \n",
    "    \n",
    "print(cnt_entity) \n",
    "print(\"the answer in entity:\")\n",
    "print(cnt_entity / len(direct_df))\n",
    "print(len(direct_df))\n",
    "print(\"the answer in community:\")\n",
    "print(cnt_community)\n",
    "print(cnt_community / len(direct_df))\n"
   ]
  },
  {
   "cell_type": "code",
   "execution_count": 5,
   "metadata": {},
   "outputs": [
    {
     "name": "stderr",
     "output_type": "stream",
     "text": [
      "0it [00:00, ?it/s]"
     ]
    },
    {
     "name": "stderr",
     "output_type": "stream",
     "text": [
      "2032it [00:01, 1668.27it/s]"
     ]
    },
    {
     "name": "stdout",
     "output_type": "stream",
     "text": [
      "515\n",
      "0.2534448818897638\n",
      "2032\n"
     ]
    },
    {
     "name": "stderr",
     "output_type": "stream",
     "text": [
      "\n"
     ]
    }
   ],
   "source": [
    "cnt_gr = 0\n",
    "\n",
    "direct_df['answers_lists'] = direct_df['answers'].apply(lambda x: eval(x))\n",
    "gr_base_path = \"/mnt/data/wangshu/hcarag/FB15k/KG/cached_desc/\"\n",
    "\n",
    "for idx, row in tqdm(direct_df.iterrows()):\n",
    "    answer = row[\"answers_lists\"]\n",
    "    with open(gr_base_path + str(idx) + \".txt\", \"r\") as f:\n",
    "        gr_text = f.read()\n",
    "    for ans in answer:\n",
    "        if ans in gr_text:\n",
    "            cnt_gr += 1\n",
    "            break\n",
    "    \n",
    "print(cnt_gr) \n",
    "print(cnt_gr / len(direct_df))\n",
    "print(len(direct_df))"
   ]
  },
  {
   "cell_type": "code",
   "execution_count": null,
   "metadata": {},
   "outputs": [],
   "source": []
  }
 ],
 "metadata": {
  "kernelspec": {
   "display_name": "rag",
   "language": "python",
   "name": "python3"
  },
  "language_info": {
   "codemirror_mode": {
    "name": "ipython",
    "version": 3
   },
   "file_extension": ".py",
   "mimetype": "text/x-python",
   "name": "python",
   "nbconvert_exporter": "python",
   "pygments_lexer": "ipython3",
   "version": "3.10.14"
  }
 },
 "nbformat": 4,
 "nbformat_minor": 2
}
