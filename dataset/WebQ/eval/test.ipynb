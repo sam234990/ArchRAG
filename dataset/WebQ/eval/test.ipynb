{
 "cells": [
  {
   "cell_type": "code",
   "execution_count": 1,
   "metadata": {},
   "outputs": [
    {
     "data": {
      "text/html": [
       "<div>\n",
       "<style scoped>\n",
       "    .dataframe tbody tr th:only-of-type {\n",
       "        vertical-align: middle;\n",
       "    }\n",
       "\n",
       "    .dataframe tbody tr th {\n",
       "        vertical-align: top;\n",
       "    }\n",
       "\n",
       "    .dataframe thead th {\n",
       "        text-align: right;\n",
       "    }\n",
       "</style>\n",
       "<table border=\"1\" class=\"dataframe\">\n",
       "  <thead>\n",
       "    <tr style=\"text-align: right;\">\n",
       "      <th></th>\n",
       "      <th>question</th>\n",
       "      <th>answers</th>\n",
       "      <th>raw_result</th>\n",
       "      <th>pred</th>\n",
       "      <th>label</th>\n",
       "    </tr>\n",
       "  </thead>\n",
       "  <tbody>\n",
       "    <tr>\n",
       "      <th>0</th>\n",
       "      <td>what does jamaican people speak?</td>\n",
       "      <td>['Jamaican Creole English Language', 'Jamaican...</td>\n",
       "      <td>---Direct Answer---: English | Patois\\n---Brie...</td>\n",
       "      <td>English | Patois</td>\n",
       "      <td>Jamaican Creole English Language|Jamaican English</td>\n",
       "    </tr>\n",
       "    <tr>\n",
       "      <th>1</th>\n",
       "      <td>what did james k polk do before he was president?</td>\n",
       "      <td>['Lawyer']</td>\n",
       "      <td>---Direct Answer---: lawyer | politician\\n---B...</td>\n",
       "      <td>lawyer | politician</td>\n",
       "      <td>Lawyer</td>\n",
       "    </tr>\n",
       "  </tbody>\n",
       "</table>\n",
       "</div>"
      ],
      "text/plain": [
       "                                            question  \\\n",
       "0                   what does jamaican people speak?   \n",
       "1  what did james k polk do before he was president?   \n",
       "\n",
       "                                             answers  \\\n",
       "0  ['Jamaican Creole English Language', 'Jamaican...   \n",
       "1                                         ['Lawyer']   \n",
       "\n",
       "                                          raw_result                 pred  \\\n",
       "0  ---Direct Answer---: English | Patois\\n---Brie...     English | Patois   \n",
       "1  ---Direct Answer---: lawyer | politician\\n---B...  lawyer | politician   \n",
       "\n",
       "                                               label  \n",
       "0  Jamaican Creole English Language|Jamaican English  \n",
       "1                                             Lawyer  "
      ]
     },
     "execution_count": 1,
     "metadata": {},
     "output_type": "execute_result"
    }
   ],
   "source": [
    "import pandas as pd\n",
    "import os\n",
    "import sys\n",
    "\n",
    "project_path = \"/home/wangshu/rag/hier_graph_rag\"\n",
    "sys.path.append(os.path.abspath(project_path))\n",
    "from src.evaluate.evaluate import get_accuracy_webqsp_qa\n",
    "\n",
    "direct_res_path = \"/mnt/data/wangshu/hcarag/FB15k/hc_index_8b/qa/global_5_15_10_15_direct_QA_.json\"\n",
    "direct_df = pd.read_csv(direct_res_path)\n",
    "entity_df_path = \"/mnt/data/wangshu/hcarag/FB15k/KG/entity_df.csv\"\n",
    "entity_df = pd.read_csv(entity_df_path)\n",
    "community_df_path = \"/mnt/data/wangshu/hcarag/FB15k/hc_index_8b/community_df_index.csv\"\n",
    "community_df = pd.read_csv(community_df_path)\n",
    "\n",
    "direct_df.head(2)"
   ]
  },
  {
   "cell_type": "code",
   "execution_count": 2,
   "metadata": {},
   "outputs": [
    {
     "name": "stdout",
     "output_type": "stream",
     "text": [
      "Sire Records, American record label Theodore Bikel, Austrian-American actor, folk singer, musician, \n"
     ]
    }
   ],
   "source": [
    "entity_df_description = entity_df[\"node_description\"].values\n",
    "entity_df_description = \" \".join(entity_df_description)\n",
    "print(entity_df_description[0:100])"
   ]
  },
  {
   "cell_type": "code",
   "execution_count": 3,
   "metadata": {},
   "outputs": [
    {
     "name": "stdout",
     "output_type": "stream",
     "text": [
      "The community revolves around Equation, a mathematical statement that asserts the equality of two ex\n"
     ]
    }
   ],
   "source": [
    "community_df_summary = community_df[\"summary\"].values\n",
    "community_title = community_df['title'].values\n",
    "\n",
    "community_content = \" \".join(community_df_summary) + \" \".join(community_title)\n",
    "print(community_content[0:100])"
   ]
  },
  {
   "cell_type": "code",
   "execution_count": 5,
   "metadata": {},
   "outputs": [
    {
     "name": "stdout",
     "output_type": "stream",
     "text": [
      "282.9520782396088\n",
      "58.04563815463114\n"
     ]
    }
   ],
   "source": [
    "text_length = []\n",
    "for _, row in community_df.iterrows():\n",
    "    text_length.append(len(row[\"summary\"]) + len(row[\"title\"]))\n",
    "\n",
    "community_mean_text_length = sum(text_length) / len(text_length)\n",
    "print(community_mean_text_length)\n",
    "\n",
    "text_length_entity = []\n",
    "for _, row in entity_df.iterrows():\n",
    "    text_length_entity.append(len(row[\"node_description\"]))\n",
    "entity_mean_text_length = sum(text_length_entity) / len(text_length_entity)\n",
    "print(entity_mean_text_length)\n"
   ]
  },
  {
   "cell_type": "code",
   "execution_count": 20,
   "metadata": {},
   "outputs": [
    {
     "name": "stdout",
     "output_type": "stream",
     "text": [
      "<class 'pandas.core.series.Series'>\n"
     ]
    },
    {
     "name": "stderr",
     "output_type": "stream",
     "text": [
      "2032it [00:03, 533.09it/s]"
     ]
    },
    {
     "name": "stdout",
     "output_type": "stream",
     "text": [
      "1080\n",
      "0.531496062992126\n",
      "2032\n",
      "796\n",
      "0.39173228346456695\n"
     ]
    },
    {
     "name": "stderr",
     "output_type": "stream",
     "text": [
      "\n"
     ]
    }
   ],
   "source": [
    "from tqdm import tqdm\n",
    "cnt_entity = 0\n",
    "cnt_community = 0\n",
    "\n",
    "direct_df['answers_lists'] = direct_df['answers'].apply(lambda x: eval(x))\n",
    "print(type(direct_df['answers_lists']))\n",
    "\n",
    "for _, row in tqdm(direct_df.iterrows()):\n",
    "    answer = row[\"answers_lists\"]\n",
    "    for ans in answer:\n",
    "        if ans in entity_df_description:\n",
    "            cnt_entity += 1\n",
    "            break\n",
    "        \n",
    "    for ans in answer:\n",
    "        if ans in community_content:\n",
    "            cnt_community += 1\n",
    "            break\n",
    "        \n",
    "    \n",
    "print(cnt_entity) \n",
    "print(cnt_entity / len(direct_df))\n",
    "print(len(direct_df))\n",
    "print(cnt_community)\n",
    "print(cnt_community / len(direct_df))\n"
   ]
  }
 ],
 "metadata": {
  "kernelspec": {
   "display_name": "rag",
   "language": "python",
   "name": "python3"
  },
  "language_info": {
   "codemirror_mode": {
    "name": "ipython",
    "version": 3
   },
   "file_extension": ".py",
   "mimetype": "text/x-python",
   "name": "python",
   "nbconvert_exporter": "python",
   "pygments_lexer": "ipython3",
   "version": "3.10.14"
  }
 },
 "nbformat": 4,
 "nbformat_minor": 2
}
