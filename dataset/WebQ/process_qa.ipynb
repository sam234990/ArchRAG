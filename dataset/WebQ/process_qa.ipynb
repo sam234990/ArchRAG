{
 "cells": [
  {
   "cell_type": "code",
   "execution_count": 1,
   "metadata": {},
   "outputs": [
    {
     "data": {
      "text/html": [
       "<div>\n",
       "<style scoped>\n",
       "    .dataframe tbody tr th:only-of-type {\n",
       "        vertical-align: middle;\n",
       "    }\n",
       "\n",
       "    .dataframe tbody tr th {\n",
       "        vertical-align: top;\n",
       "    }\n",
       "\n",
       "    .dataframe thead th {\n",
       "        text-align: right;\n",
       "    }\n",
       "</style>\n",
       "<table border=\"1\" class=\"dataframe\">\n",
       "  <thead>\n",
       "    <tr style=\"text-align: right;\">\n",
       "      <th></th>\n",
       "      <th>url</th>\n",
       "      <th>question</th>\n",
       "      <th>answers</th>\n",
       "      <th>topic_entity</th>\n",
       "      <th>qid_topic_entity</th>\n",
       "    </tr>\n",
       "  </thead>\n",
       "  <tbody>\n",
       "    <tr>\n",
       "      <th>0</th>\n",
       "      <td>http://www.freebase.com/view/en/jamaica</td>\n",
       "      <td>what does jamaican people speak?</td>\n",
       "      <td>[Jamaican Creole English Language, Jamaican En...</td>\n",
       "      <td>{'m.03_r3': 'Jamaica'}</td>\n",
       "      <td>{'Q766': 'Jamaica'}</td>\n",
       "    </tr>\n",
       "    <tr>\n",
       "      <th>1</th>\n",
       "      <td>http://www.freebase.com/view/en/james_k_polk</td>\n",
       "      <td>what did james k polk do before he was president?</td>\n",
       "      <td>[Lawyer]</td>\n",
       "      <td>{'m.042f1': 'James K. Polk'}</td>\n",
       "      <td>{'Q11891': 'James K. Polk'}</td>\n",
       "    </tr>\n",
       "  </tbody>\n",
       "</table>\n",
       "</div>"
      ],
      "text/plain": [
       "                                            url  \\\n",
       "0       http://www.freebase.com/view/en/jamaica   \n",
       "1  http://www.freebase.com/view/en/james_k_polk   \n",
       "\n",
       "                                            question  \\\n",
       "0                   what does jamaican people speak?   \n",
       "1  what did james k polk do before he was president?   \n",
       "\n",
       "                                             answers  \\\n",
       "0  [Jamaican Creole English Language, Jamaican En...   \n",
       "1                                           [Lawyer]   \n",
       "\n",
       "                   topic_entity             qid_topic_entity  \n",
       "0        {'m.03_r3': 'Jamaica'}          {'Q766': 'Jamaica'}  \n",
       "1  {'m.042f1': 'James K. Polk'}  {'Q11891': 'James K. Polk'}  "
      ]
     },
     "execution_count": 1,
     "metadata": {},
     "output_type": "execute_result"
    }
   ],
   "source": [
    "import json\n",
    "import pandas as pd\n",
    "\n",
    "\n",
    "file_path_qa = \"/mnt/data/wangshu/hcarag/FB15k/webqa/WebQuestions.json\"\n",
    "qa_df = pd.read_json(file_path_qa)\n",
    "\n",
    "qa_df.head(2)\n"
   ]
  },
  {
   "cell_type": "code",
   "execution_count": 2,
   "metadata": {},
   "outputs": [
    {
     "name": "stderr",
     "output_type": "stream",
     "text": [
      "/tmp/ipykernel_1618883/2923446239.py:7: SettingWithCopyWarning: \n",
      "A value is trying to be set on a copy of a slice from a DataFrame.\n",
      "Try using .loc[row_indexer,col_indexer] = value instead\n",
      "\n",
      "See the caveats in the documentation: https://pandas.pydata.org/pandas-docs/stable/user_guide/indexing.html#returning-a-view-versus-a-copy\n",
      "  save_qa_df[\"label\"] = save_qa_df[\"answers\"].apply(process_gb_answer)\n"
     ]
    },
    {
     "data": {
      "text/html": [
       "<div>\n",
       "<style scoped>\n",
       "    .dataframe tbody tr th:only-of-type {\n",
       "        vertical-align: middle;\n",
       "    }\n",
       "\n",
       "    .dataframe tbody tr th {\n",
       "        vertical-align: top;\n",
       "    }\n",
       "\n",
       "    .dataframe thead th {\n",
       "        text-align: right;\n",
       "    }\n",
       "</style>\n",
       "<table border=\"1\" class=\"dataframe\">\n",
       "  <thead>\n",
       "    <tr style=\"text-align: right;\">\n",
       "      <th></th>\n",
       "      <th>question</th>\n",
       "      <th>answers</th>\n",
       "      <th>label</th>\n",
       "    </tr>\n",
       "  </thead>\n",
       "  <tbody>\n",
       "    <tr>\n",
       "      <th>0</th>\n",
       "      <td>what does jamaican people speak?</td>\n",
       "      <td>[Jamaican Creole English Language, Jamaican En...</td>\n",
       "      <td>jamaican creole english language|jamaican english</td>\n",
       "    </tr>\n",
       "    <tr>\n",
       "      <th>1</th>\n",
       "      <td>what did james k polk do before he was president?</td>\n",
       "      <td>[Lawyer]</td>\n",
       "      <td>lawyer</td>\n",
       "    </tr>\n",
       "  </tbody>\n",
       "</table>\n",
       "</div>"
      ],
      "text/plain": [
       "                                            question  \\\n",
       "0                   what does jamaican people speak?   \n",
       "1  what did james k polk do before he was president?   \n",
       "\n",
       "                                             answers  \\\n",
       "0  [Jamaican Creole English Language, Jamaican En...   \n",
       "1                                           [Lawyer]   \n",
       "\n",
       "                                               label  \n",
       "0  jamaican creole english language|jamaican english  \n",
       "1                                             lawyer  "
      ]
     },
     "execution_count": 2,
     "metadata": {},
     "output_type": "execute_result"
    }
   ],
   "source": [
    "save_qa_df = qa_df[[\"question\", \"answers\"]]\n",
    "\n",
    "def process_gb_answer(x):\n",
    "        if isinstance(x, list):\n",
    "            res = \"|\".join(map(str, x))\n",
    "            return res.lower()\n",
    "save_qa_df[\"label\"] = save_qa_df[\"answers\"].apply(process_gb_answer)\n",
    "\n",
    "file_path_save_qa = \"/mnt/data/wangshu/hcarag/FB15k/webqa/webqa.json\"\n",
    "save_qa_df.to_json(file_path_save_qa, orient='records', lines=True)\n",
    "\n",
    "save_qa_df.head(2)\n",
    "\n"
   ]
  }
 ],
 "metadata": {
  "kernelspec": {
   "display_name": "rag",
   "language": "python",
   "name": "python3"
  },
  "language_info": {
   "codemirror_mode": {
    "name": "ipython",
    "version": 3
   },
   "file_extension": ".py",
   "mimetype": "text/x-python",
   "name": "python",
   "nbconvert_exporter": "python",
   "pygments_lexer": "ipython3",
   "version": "3.10.14"
  }
 },
 "nbformat": 4,
 "nbformat_minor": 2
}
