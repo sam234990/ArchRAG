{
 "cells": [
  {
   "cell_type": "code",
   "execution_count": null,
   "metadata": {},
   "outputs": [
    {
     "data": {
      "text/plain": [
       "4700"
      ]
     },
     "execution_count": 1,
     "metadata": {},
     "output_type": "execute_result"
    }
   ],
   "source": [
    "import json\n",
    "import pandas as pd\n",
    "import datasets\n",
    "from tqdm import tqdm\n",
    "\n",
    "dataset_path = \"/mnt/data/wangshu/hcarag/RoG-webqsp\"\n",
    "dataset = datasets.load_from_disk(dataset_path)\n",
    "dataset = datasets.concatenate_datasets([dataset['train'], dataset['validation'], dataset['test']])\n",
    "\n",
    "\n",
    "len(dataset)"
   ]
  },
  {
   "cell_type": "code",
   "execution_count": 2,
   "metadata": {},
   "outputs": [
    {
     "name": "stderr",
     "output_type": "stream",
     "text": [
      "100%|██████████| 4700/4700 [05:10<00:00, 15.14it/s]\n"
     ]
    },
    {
     "data": {
      "text/html": [
       "<div>\n",
       "<style scoped>\n",
       "    .dataframe tbody tr th:only-of-type {\n",
       "        vertical-align: middle;\n",
       "    }\n",
       "\n",
       "    .dataframe tbody tr th {\n",
       "        vertical-align: top;\n",
       "    }\n",
       "\n",
       "    .dataframe thead th {\n",
       "        text-align: right;\n",
       "    }\n",
       "</style>\n",
       "<table border=\"1\" class=\"dataframe\">\n",
       "  <thead>\n",
       "    <tr style=\"text-align: right;\">\n",
       "      <th></th>\n",
       "      <th>question</th>\n",
       "      <th>answers</th>\n",
       "      <th>graph</th>\n",
       "    </tr>\n",
       "  </thead>\n",
       "  <tbody>\n",
       "    <tr>\n",
       "      <th>0</th>\n",
       "      <td>what is the name of justin bieber brother</td>\n",
       "      <td>[Jaxon Bieber]</td>\n",
       "      <td>[[P!nk, freebase.valuenotation.is_reviewed, Ge...</td>\n",
       "    </tr>\n",
       "    <tr>\n",
       "      <th>1</th>\n",
       "      <td>what character did natalie portman play in sta...</td>\n",
       "      <td>[Padmé Amidala]</td>\n",
       "      <td>[[m.0t4tf9z, film.film_crew_gig.film, Hesher],...</td>\n",
       "    </tr>\n",
       "    <tr>\n",
       "      <th>2</th>\n",
       "      <td>what country is the grand bahama island in</td>\n",
       "      <td>[Bahamas]</td>\n",
       "      <td>[[Acklins, location.administrative_division.fi...</td>\n",
       "    </tr>\n",
       "    <tr>\n",
       "      <th>3</th>\n",
       "      <td>what kind of money to take to bahamas</td>\n",
       "      <td>[Bahamian dollar]</td>\n",
       "      <td>[[Hurricane Betsy, common.topic.notable_types,...</td>\n",
       "    </tr>\n",
       "    <tr>\n",
       "      <th>4</th>\n",
       "      <td>what character did john noble play in lord of ...</td>\n",
       "      <td>[Denethor II]</td>\n",
       "      <td>[[John Noble, film.actor.film, m.0h1ldcx], [m....</td>\n",
       "    </tr>\n",
       "    <tr>\n",
       "      <th>...</th>\n",
       "      <td>...</td>\n",
       "      <td>...</td>\n",
       "      <td>...</td>\n",
       "    </tr>\n",
       "    <tr>\n",
       "      <th>4695</th>\n",
       "      <td>what team did david beckham play for before la...</td>\n",
       "      <td>[Manchester United F.C.]</td>\n",
       "      <td>[[m.0cq704h, common.webpage.topic, David Beckh...</td>\n",
       "    </tr>\n",
       "    <tr>\n",
       "      <th>4696</th>\n",
       "      <td>who is the current leader of france 2010</td>\n",
       "      <td>[Nicolas Sarkozy]</td>\n",
       "      <td>[[Le Moniteur Universel, book.newspaper.circul...</td>\n",
       "    </tr>\n",
       "    <tr>\n",
       "      <th>4697</th>\n",
       "      <td>where was the palace of knossos located</td>\n",
       "      <td>[Crete, Greece]</td>\n",
       "      <td>[[Erythropotamos, location.location.partially_...</td>\n",
       "    </tr>\n",
       "    <tr>\n",
       "      <th>4698</th>\n",
       "      <td>where is roswell area 51</td>\n",
       "      <td>[Lincoln County, Nevada]</td>\n",
       "      <td>[[m.04krc3y, government.government_position_he...</td>\n",
       "    </tr>\n",
       "    <tr>\n",
       "      <th>4699</th>\n",
       "      <td>when was father chris riley born</td>\n",
       "      <td>[Echuca]</td>\n",
       "      <td>[[m.02_1x1x, base.gender.personal_gender_ident...</td>\n",
       "    </tr>\n",
       "  </tbody>\n",
       "</table>\n",
       "<p>4700 rows × 3 columns</p>\n",
       "</div>"
      ],
      "text/plain": [
       "                                               question  \\\n",
       "0             what is the name of justin bieber brother   \n",
       "1     what character did natalie portman play in sta...   \n",
       "2            what country is the grand bahama island in   \n",
       "3                 what kind of money to take to bahamas   \n",
       "4     what character did john noble play in lord of ...   \n",
       "...                                                 ...   \n",
       "4695  what team did david beckham play for before la...   \n",
       "4696           who is the current leader of france 2010   \n",
       "4697            where was the palace of knossos located   \n",
       "4698                           where is roswell area 51   \n",
       "4699                   when was father chris riley born   \n",
       "\n",
       "                       answers  \\\n",
       "0               [Jaxon Bieber]   \n",
       "1              [Padmé Amidala]   \n",
       "2                    [Bahamas]   \n",
       "3            [Bahamian dollar]   \n",
       "4                [Denethor II]   \n",
       "...                        ...   \n",
       "4695  [Manchester United F.C.]   \n",
       "4696         [Nicolas Sarkozy]   \n",
       "4697           [Crete, Greece]   \n",
       "4698  [Lincoln County, Nevada]   \n",
       "4699                  [Echuca]   \n",
       "\n",
       "                                                  graph  \n",
       "0     [[P!nk, freebase.valuenotation.is_reviewed, Ge...  \n",
       "1     [[m.0t4tf9z, film.film_crew_gig.film, Hesher],...  \n",
       "2     [[Acklins, location.administrative_division.fi...  \n",
       "3     [[Hurricane Betsy, common.topic.notable_types,...  \n",
       "4     [[John Noble, film.actor.film, m.0h1ldcx], [m....  \n",
       "...                                                 ...  \n",
       "4695  [[m.0cq704h, common.webpage.topic, David Beckh...  \n",
       "4696  [[Le Moniteur Universel, book.newspaper.circul...  \n",
       "4697  [[Erythropotamos, location.location.partially_...  \n",
       "4698  [[m.04krc3y, government.government_position_he...  \n",
       "4699  [[m.02_1x1x, base.gender.personal_gender_ident...  \n",
       "\n",
       "[4700 rows x 3 columns]"
      ]
     },
     "execution_count": 2,
     "metadata": {},
     "output_type": "execute_result"
    }
   ],
   "source": [
    "res_list = []\n",
    "\n",
    "for i in tqdm(range(len(dataset))):\n",
    "    question = dataset[i][\"question\"]\n",
    "    answer_list = dataset[i][\"answer\"]\n",
    "    graph = dataset[i][\"graph\"]\n",
    "    res_dict = {\"question\": question, \"answers\": answer_list, \"graph\": graph}\n",
    "    res_list.append(res_dict)\n",
    "    \n",
    "    \n",
    "qa_df = pd.DataFrame(res_list)\n",
    "qa_df"
   ]
  },
  {
   "cell_type": "code",
   "execution_count": null,
   "metadata": {},
   "outputs": [
    {
     "data": {
      "text/html": [
       "<div>\n",
       "<style scoped>\n",
       "    .dataframe tbody tr th:only-of-type {\n",
       "        vertical-align: middle;\n",
       "    }\n",
       "\n",
       "    .dataframe tbody tr th {\n",
       "        vertical-align: top;\n",
       "    }\n",
       "\n",
       "    .dataframe thead th {\n",
       "        text-align: right;\n",
       "    }\n",
       "</style>\n",
       "<table border=\"1\" class=\"dataframe\">\n",
       "  <thead>\n",
       "    <tr style=\"text-align: right;\">\n",
       "      <th></th>\n",
       "      <th>question</th>\n",
       "      <th>answers</th>\n",
       "      <th>label</th>\n",
       "    </tr>\n",
       "  </thead>\n",
       "  <tbody>\n",
       "    <tr>\n",
       "      <th>0</th>\n",
       "      <td>what is the name of justin bieber brother</td>\n",
       "      <td>[Jaxon Bieber]</td>\n",
       "      <td>jaxon bieber</td>\n",
       "    </tr>\n",
       "    <tr>\n",
       "      <th>1</th>\n",
       "      <td>what character did natalie portman play in sta...</td>\n",
       "      <td>[Padmé Amidala]</td>\n",
       "      <td>padmé amidala</td>\n",
       "    </tr>\n",
       "  </tbody>\n",
       "</table>\n",
       "</div>"
      ],
      "text/plain": [
       "                                            question          answers  \\\n",
       "0          what is the name of justin bieber brother   [Jaxon Bieber]   \n",
       "1  what character did natalie portman play in sta...  [Padmé Amidala]   \n",
       "\n",
       "           label  \n",
       "0   jaxon bieber  \n",
       "1  padmé amidala  "
      ]
     },
     "execution_count": 3,
     "metadata": {},
     "output_type": "execute_result"
    }
   ],
   "source": [
    "save_qa_df = qa_df[[\"question\", \"answers\"]]\n",
    "def process_gb_answer(x):\n",
    "        if isinstance(x, list):\n",
    "            res = \"|\".join(map(str, x))\n",
    "            return res.lower()\n",
    "base_save_path = \"/mnt/data/wangshu/hcarag/WebQSP/dataset\"\n",
    "        \n",
    "save_qa_df[\"label\"] = save_qa_df[\"answers\"].apply(process_gb_answer)\n",
    "file_path_save_qa = f\"{base_save_path}/webqsp_qa.csv\"\n",
    "save_qa_df.to_json(file_path_save_qa, orient='records', lines=True)\n",
    "\n",
    "save_qa_df.head(2)"
   ]
  },
  {
   "cell_type": "code",
   "execution_count": 4,
   "metadata": {},
   "outputs": [
    {
     "name": "stderr",
     "output_type": "stream",
     "text": [
      "100%|██████████| 4700/4700 [00:01<00:00, 2573.60it/s]"
     ]
    },
    {
     "name": "stdout",
     "output_type": "stream",
     "text": [
      "19986134\n"
     ]
    },
    {
     "name": "stderr",
     "output_type": "stream",
     "text": [
      "\n"
     ]
    }
   ],
   "source": [
    "import os\n",
    "base_save_path = \"/mnt/data/wangshu/hcarag/WebQSP/dataset\"\n",
    "\n",
    "triples = []\n",
    "for i in tqdm(range(len(qa_df))):\n",
    "    graph = qa_df.iloc[i][\"graph\"]\n",
    "    for edge in graph:\n",
    "        triples.append(edge)\n",
    "\n",
    "print(len(triples))\n"
   ]
  },
  {
   "cell_type": "code",
   "execution_count": 7,
   "metadata": {},
   "outputs": [
    {
     "data": {
      "text/plain": [
       "['P!nk', 'freebase.valuenotation.is_reviewed', 'Gender']"
      ]
     },
     "execution_count": 7,
     "metadata": {},
     "output_type": "execute_result"
    }
   ],
   "source": [
    "# 使用集合去重\n",
    "unique_triples = list(set(tuple(triple) for triple in triples))\n",
    "\n",
    "# 将元组转换回列表\n",
    "unique_triples = [list(triple) for triple in unique_triples]\n",
    "\n",
    "for triple in unique_triples:\n",
    "    if len(triple) != 3:\n",
    "        print(triple)\n",
    "        print(\"error\")\n",
    "triples[0]"
   ]
  },
  {
   "cell_type": "code",
   "execution_count": 10,
   "metadata": {},
   "outputs": [
    {
     "name": "stdout",
     "output_type": "stream",
     "text": [
      "3791303\n"
     ]
    },
    {
     "name": "stderr",
     "output_type": "stream",
     "text": [
      "  0%|          | 0/3791303 [00:00<?, ?it/s]"
     ]
    },
    {
     "name": "stderr",
     "output_type": "stream",
     "text": [
      "100%|██████████| 3791303/3791303 [00:04<00:00, 854204.29it/s]\n"
     ]
    },
    {
     "data": {
      "text/plain": [
       "(1298306, 6094)"
      ]
     },
     "execution_count": 10,
     "metadata": {},
     "output_type": "execute_result"
    }
   ],
   "source": [
    "print(len(unique_triples))\n",
    "\n",
    "entity_set = set()\n",
    "relation_set = set()\n",
    "for triple in tqdm(unique_triples):\n",
    "    if triple[1] not in relation_set:\n",
    "        relation_set.add(triple[1])\n",
    "    \n",
    "    if triple[0] not in entity_set:\n",
    "        entity_set.add(triple[0])\n",
    "    if triple[2] not in entity_set:\n",
    "        entity_set.add(triple[2])\n",
    "    \n",
    "entity_list = list(entity_set)\n",
    "relation_list = list(relation_set)\n",
    "\n",
    "len(entity_list), len(relation_list)"
   ]
  },
  {
   "cell_type": "code",
   "execution_count": 12,
   "metadata": {},
   "outputs": [
    {
     "name": "stdout",
     "output_type": "stream",
     "text": [
      "save kg done\n"
     ]
    }
   ],
   "source": [
    "kg_save_path = f\"{base_save_path}/triples.txt\"\n",
    "with open(kg_save_path, \"w\") as f:\n",
    "    for triple in unique_triples:\n",
    "        f.write(\"\\t\".join(triple) + \"\\n\")\n",
    "print(\"save kg done\")"
   ]
  },
  {
   "cell_type": "code",
   "execution_count": 29,
   "metadata": {},
   "outputs": [
    {
     "name": "stderr",
     "output_type": "stream",
     "text": [
      "100%|██████████| 1298306/1298306 [00:03<00:00, 325313.19it/s]\n",
      "100%|██████████| 3791303/3791303 [00:14<00:00, 257466.16it/s]\n"
     ]
    },
    {
     "name": "stdout",
     "output_type": "stream",
     "text": [
      "                                        source  \\\n",
      "0  Soviet Union men's national volleyball team   \n",
      "1                               Dorothy Dehner   \n",
      "\n",
      "                           relation  \\\n",
      "0  sports.sports_team.championships   \n",
      "1        common.topic.notable_types   \n",
      "\n",
      "                                        target  head_id  human_readable_id  \\\n",
      "0  1987 Men's European Volleyball Championship   752166                  0   \n",
      "1                                Visual Artist   320428                  1   \n",
      "\n",
      "   tail_id  \n",
      "0   281297  \n",
      "1   432497  \n",
      "777410\n"
     ]
    },
    {
     "data": {
      "text/html": [
       "<div>\n",
       "<style scoped>\n",
       "    .dataframe tbody tr th:only-of-type {\n",
       "        vertical-align: middle;\n",
       "    }\n",
       "\n",
       "    .dataframe tbody tr th {\n",
       "        vertical-align: top;\n",
       "    }\n",
       "\n",
       "    .dataframe thead th {\n",
       "        text-align: right;\n",
       "    }\n",
       "</style>\n",
       "<table border=\"1\" class=\"dataframe\">\n",
       "  <thead>\n",
       "    <tr style=\"text-align: right;\">\n",
       "      <th></th>\n",
       "      <th>entity</th>\n",
       "      <th>mid_type</th>\n",
       "      <th>human_readable_id</th>\n",
       "    </tr>\n",
       "  </thead>\n",
       "  <tbody>\n",
       "    <tr>\n",
       "      <th>0</th>\n",
       "      <td>g.120vn5wm</td>\n",
       "      <td>1</td>\n",
       "      <td>0</td>\n",
       "    </tr>\n",
       "    <tr>\n",
       "      <th>1</th>\n",
       "      <td>Niko.jpg</td>\n",
       "      <td>0</td>\n",
       "      <td>1</td>\n",
       "    </tr>\n",
       "  </tbody>\n",
       "</table>\n",
       "</div>"
      ],
      "text/plain": [
       "       entity  mid_type  human_readable_id\n",
       "0  g.120vn5wm         1                  0\n",
       "1    Niko.jpg         0                  1"
      ]
     },
     "execution_count": 29,
     "metadata": {},
     "output_type": "execute_result"
    }
   ],
   "source": [
    "mid_cnt = 0\n",
    "res_list = []\n",
    "\n",
    "entity_to_id = {}\n",
    "for i, entity in tqdm(enumerate(entity_list), total=len(entity_list)):\n",
    "    tmp = 0\n",
    "    if entity.count(\".\") == 1:\n",
    "        start_char = entity.split(\".\")[0]\n",
    "        if len(start_char) == 1:\n",
    "            mid_cnt += 1\n",
    "            tmp = 1\n",
    "    tmp_dict = {\"entity\": entity, \"mid_type\": tmp, \"human_readable_id\": i}\n",
    "    res_list.append(tmp_dict)\n",
    "    entity_to_id[entity] = i\n",
    "\n",
    "entity_df = pd.DataFrame(res_list)\n",
    "\n",
    "triple_list = []\n",
    "for i, triple in tqdm(enumerate(unique_triples), total=len(unique_triples)):\n",
    "    source = triple[0]\n",
    "    relation = triple[1]\n",
    "    target = triple[2]\n",
    "    head_id = entity_to_id[source]\n",
    "    tail_id = entity_to_id[target]\n",
    "    tmp_dict = {\n",
    "        \"source\": source,\n",
    "        \"relation\": relation,\n",
    "        \"target\": target,\n",
    "        \"head_id\": head_id,\n",
    "        \"human_readable_id\": i,\n",
    "        \"tail_id\": tail_id,\n",
    "    }\n",
    "    triple_list.append(tmp_dict)\n",
    "\n",
    "triple_df = pd.DataFrame(triple_list)\n",
    "print(triple_df.head(2))\n",
    "\n",
    "print(mid_cnt)\n",
    "entity_df.head(2)"
   ]
  },
  {
   "cell_type": "code",
   "execution_count": 30,
   "metadata": {},
   "outputs": [
    {
     "name": "stdout",
     "output_type": "stream",
     "text": [
      "       entity  mid_type  human_readable_id  out_degree  in_degree  degree\n",
      "0  g.120vn5wm         1                  0           0          1       1\n",
      "1    Niko.jpg         0                  1           0          1       1\n"
     ]
    },
    {
     "data": {
      "text/html": [
       "<div>\n",
       "<style scoped>\n",
       "    .dataframe tbody tr th:only-of-type {\n",
       "        vertical-align: middle;\n",
       "    }\n",
       "\n",
       "    .dataframe tbody tr th {\n",
       "        vertical-align: top;\n",
       "    }\n",
       "\n",
       "    .dataframe thead th {\n",
       "        text-align: right;\n",
       "    }\n",
       "</style>\n",
       "<table border=\"1\" class=\"dataframe\">\n",
       "  <thead>\n",
       "    <tr style=\"text-align: right;\">\n",
       "      <th></th>\n",
       "      <th>source</th>\n",
       "      <th>relation</th>\n",
       "      <th>target</th>\n",
       "      <th>head_id</th>\n",
       "      <th>human_readable_id</th>\n",
       "      <th>tail_id</th>\n",
       "      <th>source_degree</th>\n",
       "      <th>target_degree</th>\n",
       "    </tr>\n",
       "  </thead>\n",
       "  <tbody>\n",
       "    <tr>\n",
       "      <th>0</th>\n",
       "      <td>Soviet Union men's national volleyball team</td>\n",
       "      <td>sports.sports_team.championships</td>\n",
       "      <td>1987 Men's European Volleyball Championship</td>\n",
       "      <td>752166</td>\n",
       "      <td>0</td>\n",
       "      <td>281297</td>\n",
       "      <td>38</td>\n",
       "      <td>1</td>\n",
       "    </tr>\n",
       "    <tr>\n",
       "      <th>1</th>\n",
       "      <td>Dorothy Dehner</td>\n",
       "      <td>common.topic.notable_types</td>\n",
       "      <td>Visual Artist</td>\n",
       "      <td>320428</td>\n",
       "      <td>1</td>\n",
       "      <td>432497</td>\n",
       "      <td>10</td>\n",
       "      <td>1054</td>\n",
       "    </tr>\n",
       "  </tbody>\n",
       "</table>\n",
       "</div>"
      ],
      "text/plain": [
       "                                        source  \\\n",
       "0  Soviet Union men's national volleyball team   \n",
       "1                               Dorothy Dehner   \n",
       "\n",
       "                           relation  \\\n",
       "0  sports.sports_team.championships   \n",
       "1        common.topic.notable_types   \n",
       "\n",
       "                                        target  head_id  human_readable_id  \\\n",
       "0  1987 Men's European Volleyball Championship   752166                  0   \n",
       "1                                Visual Artist   320428                  1   \n",
       "\n",
       "   tail_id  source_degree  target_degree  \n",
       "0   281297             38              1  \n",
       "1   432497             10           1054  "
      ]
     },
     "execution_count": 30,
     "metadata": {},
     "output_type": "execute_result"
    }
   ],
   "source": [
    "out_degree_counts = triple_df['head_id'].value_counts()\n",
    "\n",
    "in_degree_counts = triple_df['tail_id'].value_counts()\n",
    "\n",
    "degree_counts = out_degree_counts.add(in_degree_counts, fill_value=0)\n",
    "\n",
    "\n",
    "entity_df['out_degree'] = entity_df['human_readable_id'].map(out_degree_counts).fillna(0).astype(int)\n",
    "entity_df['in_degree'] = entity_df['human_readable_id'].map(in_degree_counts).fillna(0).astype(int)\n",
    "\n",
    "# 将结果添加到 entity_df\n",
    "entity_df['degree'] = entity_df['human_readable_id'].map(degree_counts).fillna(0).astype(int)\n",
    "\n",
    "print(entity_df.head(2))\n",
    "# 创建 mid 到 human_readable_id 的映射字典\n",
    "id_to_degree = dict(zip(entity_df[\"human_readable_id\"], entity_df[\"degree\"]))\n",
    "\n",
    "triple_df[\"source_degree\"] = triple_df[\"head_id\"].map(id_to_degree)\n",
    "triple_df[\"target_degree\"] = triple_df[\"tail_id\"].map(id_to_degree)\n",
    "triple_df.head(2)\n"
   ]
  },
  {
   "cell_type": "code",
   "execution_count": 31,
   "metadata": {},
   "outputs": [
    {
     "name": "stdout",
     "output_type": "stream",
     "text": [
      "done\n"
     ]
    }
   ],
   "source": [
    "save_entity_path = f\"{base_save_path}/entity_df.csv\"\n",
    "save_triple_path = f\"{base_save_path}/relation_df.csv\"\n",
    "\n",
    "entity_df.to_csv(save_entity_path, index=False)\n",
    "triple_df.to_csv(save_triple_path, index=False)\n",
    "print(\"done\")"
   ]
  },
  {
   "cell_type": "code",
   "execution_count": 32,
   "metadata": {},
   "outputs": [
    {
     "data": {
      "text/plain": [
       "(3791303, 8)"
      ]
     },
     "execution_count": 32,
     "metadata": {},
     "output_type": "execute_result"
    }
   ],
   "source": [
    "triple_df.shape"
   ]
  }
 ],
 "metadata": {
  "kernelspec": {
   "display_name": "rag",
   "language": "python",
   "name": "python3"
  },
  "language_info": {
   "codemirror_mode": {
    "name": "ipython",
    "version": 3
   },
   "file_extension": ".py",
   "mimetype": "text/x-python",
   "name": "python",
   "nbconvert_exporter": "python",
   "pygments_lexer": "ipython3",
   "version": "3.10.14"
  }
 },
 "nbformat": 4,
 "nbformat_minor": 2
}
