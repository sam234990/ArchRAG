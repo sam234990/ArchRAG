{
 "cells": [
  {
   "cell_type": "code",
   "execution_count": 1,
   "metadata": {},
   "outputs": [
    {
     "name": "stdout",
     "output_type": "stream",
     "text": [
      "/home/wangshu/rag/hier_graph_rag\n"
     ]
    },
    {
     "name": "stderr",
     "output_type": "stream",
     "text": [
      "100%|██████████| 32056/32056 [00:01<00:00, 24800.65it/s]"
     ]
    },
    {
     "name": "stdout",
     "output_type": "stream",
     "text": [
      "1426396\n"
     ]
    },
    {
     "name": "stderr",
     "output_type": "stream",
     "text": [
      "\n"
     ]
    }
   ],
   "source": [
    "import os\n",
    "import sys\n",
    "\n",
    "project_path = \"/home/wangshu/rag/hier_graph_rag\"\n",
    "sys.path.append(os.path.abspath(project_path))\n",
    "print(project_path)\n",
    "\n",
    "from src.utils import num_tokens\n",
    "from tqdm import tqdm\n",
    "\n",
    "data_path = \"/mnt/data/wangshu/hcarag/MultiHop-RAG/dataset\"\n",
    "save_path = os.path.join(data_path, \"mh-corpus.txt\")\n",
    "\n",
    "# 假设你的 JSON 数据保存在一个名为 data.json 的文件中\n",
    "with open(save_path, 'r', encoding='utf-8') as file:\n",
    "    data_lines = file.readlines()\n",
    "    \n",
    "all_token = 0\n",
    "for line in tqdm(data_lines):\n",
    "    all_token += num_tokens(line)\n",
    "\n",
    "print(all_token)\n",
    "    "
   ]
  }
 ],
 "metadata": {
  "kernelspec": {
   "display_name": "rag",
   "language": "python",
   "name": "python3"
  },
  "language_info": {
   "codemirror_mode": {
    "name": "ipython",
    "version": 3
   },
   "file_extension": ".py",
   "mimetype": "text/x-python",
   "name": "python",
   "nbconvert_exporter": "python",
   "pygments_lexer": "ipython3",
   "version": "3.10.14"
  }
 },
 "nbformat": 4,
 "nbformat_minor": 2
}
