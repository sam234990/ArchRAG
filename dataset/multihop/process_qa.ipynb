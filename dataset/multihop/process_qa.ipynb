{
 "cells": [
  {
   "cell_type": "code",
   "execution_count": 1,
   "metadata": {},
   "outputs": [
    {
     "data": {
      "text/html": [
       "<div>\n",
       "<style scoped>\n",
       "    .dataframe tbody tr th:only-of-type {\n",
       "        vertical-align: middle;\n",
       "    }\n",
       "\n",
       "    .dataframe tbody tr th {\n",
       "        vertical-align: top;\n",
       "    }\n",
       "\n",
       "    .dataframe thead th {\n",
       "        text-align: right;\n",
       "    }\n",
       "</style>\n",
       "<table border=\"1\" class=\"dataframe\">\n",
       "  <thead>\n",
       "    <tr style=\"text-align: right;\">\n",
       "      <th></th>\n",
       "      <th>query</th>\n",
       "      <th>answer</th>\n",
       "      <th>question_type</th>\n",
       "      <th>evidence_list</th>\n",
       "    </tr>\n",
       "  </thead>\n",
       "  <tbody>\n",
       "    <tr>\n",
       "      <th>0</th>\n",
       "      <td>Who is the individual associated with the cryp...</td>\n",
       "      <td>Sam Bankman-Fried</td>\n",
       "      <td>inference_query</td>\n",
       "      <td>[{'title': 'The FTX trial is bigger than Sam B...</td>\n",
       "    </tr>\n",
       "    <tr>\n",
       "      <th>1</th>\n",
       "      <td>Which individual is implicated in both inflati...</td>\n",
       "      <td>Donald Trump</td>\n",
       "      <td>inference_query</td>\n",
       "      <td>[{'title': 'Donald Trump defrauded banks with ...</td>\n",
       "    </tr>\n",
       "  </tbody>\n",
       "</table>\n",
       "</div>"
      ],
      "text/plain": [
       "                                               query  ...                                      evidence_list\n",
       "0  Who is the individual associated with the cryp...  ...  [{'title': 'The FTX trial is bigger than Sam B...\n",
       "1  Which individual is implicated in both inflati...  ...  [{'title': 'Donald Trump defrauded banks with ...\n",
       "\n",
       "[2 rows x 4 columns]"
      ]
     },
     "execution_count": 1,
     "metadata": {},
     "output_type": "execute_result"
    }
   ],
   "source": [
    "import pandas as pd\n",
    "\n",
    "file_qa = \"/mnt/data/wangshu/hcarag/MultiHop-RAG/dataset/MultiHopRAG.json\"\n",
    "qa_df_raw = pd.read_json(file_qa)\n",
    "\n",
    "qa_df_raw.head(2)\n"
   ]
  },
  {
   "cell_type": "code",
   "execution_count": 9,
   "metadata": {},
   "outputs": [
    {
     "data": {
      "text/html": [
       "<div>\n",
       "<style scoped>\n",
       "    .dataframe tbody tr th:only-of-type {\n",
       "        vertical-align: middle;\n",
       "    }\n",
       "\n",
       "    .dataframe tbody tr th {\n",
       "        vertical-align: top;\n",
       "    }\n",
       "\n",
       "    .dataframe thead th {\n",
       "        text-align: right;\n",
       "    }\n",
       "</style>\n",
       "<table border=\"1\" class=\"dataframe\">\n",
       "  <thead>\n",
       "    <tr style=\"text-align: right;\">\n",
       "      <th></th>\n",
       "      <th>query</th>\n",
       "      <th>answer</th>\n",
       "    </tr>\n",
       "  </thead>\n",
       "  <tbody>\n",
       "    <tr>\n",
       "      <th>0</th>\n",
       "      <td>Who is the individual associated with the cryp...</td>\n",
       "      <td>Sam Bankman-Fried</td>\n",
       "    </tr>\n",
       "    <tr>\n",
       "      <th>1</th>\n",
       "      <td>Which individual is implicated in both inflati...</td>\n",
       "      <td>Donald Trump</td>\n",
       "    </tr>\n",
       "  </tbody>\n",
       "</table>\n",
       "</div>"
      ],
      "text/plain": [
       "                                               query             answer\n",
       "0  Who is the individual associated with the cryp...  Sam Bankman-Fried\n",
       "1  Which individual is implicated in both inflati...       Donald Trump"
      ]
     },
     "execution_count": 9,
     "metadata": {},
     "output_type": "execute_result"
    }
   ],
   "source": [
    "qa_df = qa_df_raw.copy()\n",
    "qa_df = qa_df[[\"query\", \"answer\"]]\n",
    "file_save_path = \"/mnt/data/wangshu/hcarag/MultiHop-RAG/dataset/MultiHopRAG_qa.json\"\n",
    "qa_df.to_json(file_save_path, orient='records', lines=True)\n",
    "qa_df.head(2)"
   ]
  },
  {
   "cell_type": "code",
   "execution_count": 8,
   "metadata": {},
   "outputs": [
    {
     "data": {
      "text/plain": [
       "1.3184663536776213"
      ]
     },
     "execution_count": 8,
     "metadata": {},
     "output_type": "execute_result"
    }
   ],
   "source": [
    "ans_split = qa_df_raw['answer'].str.split(' ')\n",
    "average_len = sum(len(i) for i in ans_split) / len(ans_split)\n",
    "average_len"
   ]
  }
 ],
 "metadata": {
  "kernelspec": {
   "display_name": "rag",
   "language": "python",
   "name": "python3"
  },
  "language_info": {
   "codemirror_mode": {
    "name": "ipython",
    "version": 3
   },
   "file_extension": ".py",
   "mimetype": "text/x-python",
   "name": "python",
   "nbconvert_exporter": "python",
   "pygments_lexer": "ipython3",
   "version": "3.10.14"
  }
 },
 "nbformat": 4,
 "nbformat_minor": 2
}
