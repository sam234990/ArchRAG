{
 "cells": [
  {
   "cell_type": "code",
   "execution_count": 1,
   "metadata": {},
   "outputs": [
    {
     "data": {
      "text/html": [
       "<div>\n",
       "<style scoped>\n",
       "    .dataframe tbody tr th:only-of-type {\n",
       "        vertical-align: middle;\n",
       "    }\n",
       "\n",
       "    .dataframe tbody tr th {\n",
       "        vertical-align: top;\n",
       "    }\n",
       "\n",
       "    .dataframe thead th {\n",
       "        text-align: right;\n",
       "    }\n",
       "</style>\n",
       "<table border=\"1\" class=\"dataframe\">\n",
       "  <thead>\n",
       "    <tr style=\"text-align: right;\">\n",
       "      <th></th>\n",
       "      <th>doc_id</th>\n",
       "      <th>doc_idx</th>\n",
       "      <th>len_tokens</th>\n",
       "    </tr>\n",
       "  </thead>\n",
       "  <tbody>\n",
       "    <tr>\n",
       "      <th>0</th>\n",
       "      <td>0029bdbe75423337b551e42bb31f9a102785376f</td>\n",
       "      <td>0</td>\n",
       "      <td>200781</td>\n",
       "    </tr>\n",
       "    <tr>\n",
       "      <th>1</th>\n",
       "      <td>00936497f5884881f1df23f4834f6739552cee8b</td>\n",
       "      <td>1</td>\n",
       "      <td>132963</td>\n",
       "    </tr>\n",
       "    <tr>\n",
       "      <th>2</th>\n",
       "      <td>00950a3641e6a28b04a6fabf6334140e2deaa9fd</td>\n",
       "      <td>2</td>\n",
       "      <td>21870</td>\n",
       "    </tr>\n",
       "    <tr>\n",
       "      <th>3</th>\n",
       "      <td>00ee9e01a0e581e0d8cbf7e865a895147c480c5e</td>\n",
       "      <td>3</td>\n",
       "      <td>68636</td>\n",
       "    </tr>\n",
       "    <tr>\n",
       "      <th>4</th>\n",
       "      <td>00f9dbb0a851bc6099d5216e5fa8719b2ac3b82b</td>\n",
       "      <td>4</td>\n",
       "      <td>52307</td>\n",
       "    </tr>\n",
       "  </tbody>\n",
       "</table>\n",
       "</div>"
      ],
      "text/plain": [
       "                                     doc_id  doc_idx  len_tokens\n",
       "0  0029bdbe75423337b551e42bb31f9a102785376f        0      200781\n",
       "1  00936497f5884881f1df23f4834f6739552cee8b        1      132963\n",
       "2  00950a3641e6a28b04a6fabf6334140e2deaa9fd        2       21870\n",
       "3  00ee9e01a0e581e0d8cbf7e865a895147c480c5e        3       68636\n",
       "4  00f9dbb0a851bc6099d5216e5fa8719b2ac3b82b        4       52307"
      ]
     },
     "execution_count": 1,
     "metadata": {},
     "output_type": "execute_result"
    }
   ],
   "source": [
    "import pandas as pd\n",
    "import os\n",
    "\n",
    "base_path = \"/mnt/data/wangshu/hcarag/narrativeqa/data\"\n",
    "\n",
    "train_base = base_path + \"/train\"\n",
    "test_base = base_path + \"/test\"\n",
    "\n",
    "train_info_path = os.path.join(train_base, \"doc_info.csv\")\n",
    "test_info_path = os.path.join(test_base, \"doc_info.csv\")\n",
    "\n",
    "train_info = pd.read_csv(train_info_path)\n",
    "test_info = pd.read_csv(test_info_path)\n",
    "train_info.head()\n"
   ]
  },
  {
   "cell_type": "code",
   "execution_count": 6,
   "metadata": {},
   "outputs": [
    {
     "name": "stderr",
     "output_type": "stream",
     "text": [
      "  0%|          | 0/1102 [00:00<?, ?it/s]"
     ]
    },
    {
     "name": "stderr",
     "output_type": "stream",
     "text": [
      "100%|██████████| 1102/1102 [00:13<00:00, 79.49it/s] \n",
      "100%|██████████| 355/355 [00:04<00:00, 86.60it/s] "
     ]
    },
    {
     "name": "stdout",
     "output_type": "stream",
     "text": [
      "650571\n",
      "679426\n"
     ]
    },
    {
     "name": "stderr",
     "output_type": "stream",
     "text": [
      "\n"
     ]
    }
   ],
   "source": [
    "entity_cnt = 0\n",
    "edge_cnt = 0\n",
    "\n",
    "from tqdm import tqdm\n",
    "\n",
    "for i in tqdm(range(1102)):\n",
    "    entity_path = os.path.join(train_base, f\"{i}/hcarag/create_final_entities.parquet\")\n",
    "    entity_df = pd.read_parquet(entity_path)\n",
    "    entity_cnt += entity_df.shape[0]\n",
    "    edge_path = os.path.join(train_base, f\"{i}/hcarag/create_final_relationships.parquet\")\n",
    "    edge_df = pd.read_parquet(edge_path)\n",
    "    edge_cnt += edge_df.shape[0]\n",
    "\n",
    "for i in tqdm(range(355)):\n",
    "    entity_path = os.path.join(test_base, f\"{i}/hcarag/create_final_entities.parquet\")\n",
    "    entity_df = pd.read_parquet(entity_path)\n",
    "    entity_cnt += entity_df.shape[0]\n",
    "    edge_path = os.path.join(test_base, f\"{i}/hcarag/create_final_relationships.parquet\")\n",
    "    edge_df = pd.read_parquet(edge_path)\n",
    "    edge_cnt += edge_df.shape[0]\n",
    "\n",
    "print(entity_cnt)\n",
    "print(edge_cnt)\n",
    "\n",
    "    "
   ]
  },
  {
   "cell_type": "code",
   "execution_count": 3,
   "metadata": {},
   "outputs": [
    {
     "name": "stdout",
     "output_type": "stream",
     "text": [
      "train_all_token:  92928765\n",
      "test_all_token:  28223683\n"
     ]
    },
    {
     "data": {
      "text/plain": [
       "121152448"
      ]
     },
     "execution_count": 3,
     "metadata": {},
     "output_type": "execute_result"
    }
   ],
   "source": [
    "train_all_token = train_info[\"len_tokens\"].sum()\n",
    "print(\"train_all_token: \", train_all_token)\n",
    "\n",
    "test_all_token = test_info[\"len_tokens\"].sum()\n",
    "print(\"test_all_token: \", test_all_token)\n",
    "train_all_token + test_all_token"
   ]
  }
 ],
 "metadata": {
  "kernelspec": {
   "display_name": "rag",
   "language": "python",
   "name": "python3"
  },
  "language_info": {
   "codemirror_mode": {
    "name": "ipython",
    "version": 3
   },
   "file_extension": ".py",
   "mimetype": "text/x-python",
   "name": "python",
   "nbconvert_exporter": "python",
   "pygments_lexer": "ipython3",
   "version": "3.10.14"
  }
 },
 "nbformat": 4,
 "nbformat_minor": 2
}
