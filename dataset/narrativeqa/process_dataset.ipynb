{
 "cells": [
  {
   "cell_type": "code",
   "execution_count": null,
   "metadata": {},
   "outputs": [
    {
     "data": {
      "application/vnd.jupyter.widget-view+json": {
       "model_id": "d1d895fd78c346ba98abbfa5eff70803",
       "version_major": 2,
       "version_minor": 0
      },
      "text/plain": [
       "Resolving data files:   0%|          | 0/25 [00:00<?, ?it/s]"
      ]
     },
     "metadata": {},
     "output_type": "display_data"
    },
    {
     "data": {
      "application/vnd.jupyter.widget-view+json": {
       "model_id": "a1f6a925f201482da810e394b38af168",
       "version_major": 2,
       "version_minor": 0
      },
      "text/plain": [
       "Downloading data:   0%|          | 0/24 [00:00<?, ?files/s]"
      ]
     },
     "metadata": {},
     "output_type": "display_data"
    },
    {
     "data": {
      "application/vnd.jupyter.widget-view+json": {
       "model_id": "e662573e3c8841db9987b9adee161ede",
       "version_major": 2,
       "version_minor": 0
      },
      "text/plain": [
       "Generating train split: 0 examples [00:00, ? examples/s]"
      ]
     },
     "metadata": {},
     "output_type": "display_data"
    },
    {
     "data": {
      "application/vnd.jupyter.widget-view+json": {
       "model_id": "1f2338f7b529472592a561210844105d",
       "version_major": 2,
       "version_minor": 0
      },
      "text/plain": [
       "Generating validation split: 0 examples [00:00, ? examples/s]"
      ]
     },
     "metadata": {},
     "output_type": "display_data"
    },
    {
     "data": {
      "application/vnd.jupyter.widget-view+json": {
       "model_id": "f0aa6be8ea534cc3bf469521e0861e98",
       "version_major": 2,
       "version_minor": 0
      },
      "text/plain": [
       "Generating test split: 0 examples [00:00, ? examples/s]"
      ]
     },
     "metadata": {},
     "output_type": "display_data"
    },
    {
     "data": {
      "application/vnd.jupyter.widget-view+json": {
       "model_id": "1ef57df32ae247f2a9fe39412d635d4f",
       "version_major": 2,
       "version_minor": 0
      },
      "text/plain": [
       "Loading dataset shards:   0%|          | 0/18 [00:00<?, ?it/s]"
      ]
     },
     "metadata": {},
     "output_type": "display_data"
    }
   ],
   "source": [
    "from datasets import load_dataset\n",
    "import os\n",
    "from tqdm import tqdm\n",
    "dataset_path = \"/mnt/data/wangshu/hcarag/narrativeqa/ori_dataset\"\n",
    "cache_dir = os.path.join(dataset_path, \"cache\")\n",
    "os.makedirs(cache_dir, exist_ok=True)\n",
    "\n",
    "dataset = load_dataset(dataset_path, cache_dir=cache_dir)"
   ]
  },
  {
   "cell_type": "code",
   "execution_count": 5,
   "metadata": {},
   "outputs": [
    {
     "name": "stdout",
     "output_type": "stream",
     "text": [
      "Dataset({\n",
      "    features: ['document', 'question', 'answers'],\n",
      "    num_rows: 32747\n",
      "})\n",
      "Number of data in train split: 32747\n",
      "Number of documents in train split: 32747\n",
      "Number of documents in train split: 1102\n",
      "Number of data in test split: 10557\n"
     ]
    },
    {
     "ename": "KeyboardInterrupt",
     "evalue": "",
     "output_type": "error",
     "traceback": [
      "\u001b[0;31m---------------------------------------------------------------------------\u001b[0m",
      "\u001b[0;31mKeyboardInterrupt\u001b[0m                         Traceback (most recent call last)",
      "Cell \u001b[0;32mIn[5], line 18\u001b[0m\n\u001b[1;32m     14\u001b[0m     \u001b[38;5;28;01mreturn\u001b[39;00m document_id_set\n\u001b[1;32m     17\u001b[0m compute_doc_ids(\u001b[38;5;124m\"\u001b[39m\u001b[38;5;124mtrain\u001b[39m\u001b[38;5;124m\"\u001b[39m)\n\u001b[0;32m---> 18\u001b[0m \u001b[43mcompute_doc_ids\u001b[49m\u001b[43m(\u001b[49m\u001b[38;5;124;43m\"\u001b[39;49m\u001b[38;5;124;43mtest\u001b[39;49m\u001b[38;5;124;43m\"\u001b[39;49m\u001b[43m)\u001b[49m\n\u001b[1;32m     19\u001b[0m \u001b[38;5;28mprint\u001b[39m(\u001b[38;5;124m\"\u001b[39m\u001b[38;5;124mDone\u001b[39m\u001b[38;5;124m\"\u001b[39m)\n",
      "Cell \u001b[0;32mIn[5], line 8\u001b[0m, in \u001b[0;36mcompute_doc_ids\u001b[0;34m(split_col)\u001b[0m\n\u001b[1;32m      5\u001b[0m document_id_list \u001b[38;5;241m=\u001b[39m []\n\u001b[1;32m      6\u001b[0m \u001b[38;5;28mprint\u001b[39m(\u001b[38;5;124mf\u001b[39m\u001b[38;5;124m\"\u001b[39m\u001b[38;5;124mNumber of data in \u001b[39m\u001b[38;5;132;01m{\u001b[39;00msplit_col\u001b[38;5;132;01m}\u001b[39;00m\u001b[38;5;124m split: \u001b[39m\u001b[38;5;132;01m{\u001b[39;00m\u001b[38;5;28mlen\u001b[39m(dataset[split_col])\u001b[38;5;132;01m}\u001b[39;00m\u001b[38;5;124m\"\u001b[39m)\n\u001b[0;32m----> 8\u001b[0m \u001b[38;5;28;01mfor\u001b[39;00m data \u001b[38;5;129;01min\u001b[39;00m dataset[split_col]:\n\u001b[1;32m      9\u001b[0m     doc \u001b[38;5;241m=\u001b[39m data[\u001b[38;5;124m\"\u001b[39m\u001b[38;5;124mdocument\u001b[39m\u001b[38;5;124m\"\u001b[39m]\n\u001b[1;32m     10\u001b[0m     document_id_list\u001b[38;5;241m.\u001b[39mappend(doc[\u001b[38;5;124m\"\u001b[39m\u001b[38;5;124mid\u001b[39m\u001b[38;5;124m\"\u001b[39m])\n",
      "File \u001b[0;32m~/anaconda3/envs/rag/lib/python3.10/site-packages/datasets/arrow_dataset.py:2372\u001b[0m, in \u001b[0;36mDataset.__iter__\u001b[0;34m(self)\u001b[0m\n\u001b[1;32m   2370\u001b[0m         \u001b[38;5;28;01mfor\u001b[39;00m i \u001b[38;5;129;01min\u001b[39;00m \u001b[38;5;28mrange\u001b[39m(pa_subtable\u001b[38;5;241m.\u001b[39mnum_rows):\n\u001b[1;32m   2371\u001b[0m             pa_subtable_ex \u001b[38;5;241m=\u001b[39m pa_subtable\u001b[38;5;241m.\u001b[39mslice(i, \u001b[38;5;241m1\u001b[39m)\n\u001b[0;32m-> 2372\u001b[0m             formatted_output \u001b[38;5;241m=\u001b[39m \u001b[43mformat_table\u001b[49m\u001b[43m(\u001b[49m\n\u001b[1;32m   2373\u001b[0m \u001b[43m                \u001b[49m\u001b[43mpa_subtable_ex\u001b[49m\u001b[43m,\u001b[49m\n\u001b[1;32m   2374\u001b[0m \u001b[43m                \u001b[49m\u001b[38;5;241;43m0\u001b[39;49m\u001b[43m,\u001b[49m\n\u001b[1;32m   2375\u001b[0m \u001b[43m                \u001b[49m\u001b[43mformatter\u001b[49m\u001b[38;5;241;43m=\u001b[39;49m\u001b[43mformatter\u001b[49m\u001b[43m,\u001b[49m\n\u001b[1;32m   2376\u001b[0m \u001b[43m                \u001b[49m\u001b[43mformat_columns\u001b[49m\u001b[38;5;241;43m=\u001b[39;49m\u001b[38;5;28;43mself\u001b[39;49m\u001b[38;5;241;43m.\u001b[39;49m\u001b[43m_format_columns\u001b[49m\u001b[43m,\u001b[49m\n\u001b[1;32m   2377\u001b[0m \u001b[43m                \u001b[49m\u001b[43moutput_all_columns\u001b[49m\u001b[38;5;241;43m=\u001b[39;49m\u001b[38;5;28;43mself\u001b[39;49m\u001b[38;5;241;43m.\u001b[39;49m\u001b[43m_output_all_columns\u001b[49m\u001b[43m,\u001b[49m\n\u001b[1;32m   2378\u001b[0m \u001b[43m            \u001b[49m\u001b[43m)\u001b[49m\n\u001b[1;32m   2379\u001b[0m             \u001b[38;5;28;01myield\u001b[39;00m formatted_output\n\u001b[1;32m   2380\u001b[0m \u001b[38;5;28;01melse\u001b[39;00m:\n",
      "File \u001b[0;32m~/anaconda3/envs/rag/lib/python3.10/site-packages/datasets/formatting/formatting.py:639\u001b[0m, in \u001b[0;36mformat_table\u001b[0;34m(table, key, formatter, format_columns, output_all_columns)\u001b[0m\n\u001b[1;32m    637\u001b[0m python_formatter \u001b[38;5;241m=\u001b[39m PythonFormatter(features\u001b[38;5;241m=\u001b[39mformatter\u001b[38;5;241m.\u001b[39mfeatures)\n\u001b[1;32m    638\u001b[0m \u001b[38;5;28;01mif\u001b[39;00m format_columns \u001b[38;5;129;01mis\u001b[39;00m \u001b[38;5;28;01mNone\u001b[39;00m:\n\u001b[0;32m--> 639\u001b[0m     \u001b[38;5;28;01mreturn\u001b[39;00m \u001b[43mformatter\u001b[49m\u001b[43m(\u001b[49m\u001b[43mpa_table\u001b[49m\u001b[43m,\u001b[49m\u001b[43m \u001b[49m\u001b[43mquery_type\u001b[49m\u001b[38;5;241;43m=\u001b[39;49m\u001b[43mquery_type\u001b[49m\u001b[43m)\u001b[49m\n\u001b[1;32m    640\u001b[0m \u001b[38;5;28;01melif\u001b[39;00m query_type \u001b[38;5;241m==\u001b[39m \u001b[38;5;124m\"\u001b[39m\u001b[38;5;124mcolumn\u001b[39m\u001b[38;5;124m\"\u001b[39m:\n\u001b[1;32m    641\u001b[0m     \u001b[38;5;28;01mif\u001b[39;00m key \u001b[38;5;129;01min\u001b[39;00m format_columns:\n",
      "File \u001b[0;32m~/anaconda3/envs/rag/lib/python3.10/site-packages/datasets/formatting/formatting.py:403\u001b[0m, in \u001b[0;36mFormatter.__call__\u001b[0;34m(self, pa_table, query_type)\u001b[0m\n\u001b[1;32m    401\u001b[0m \u001b[38;5;28;01mdef\u001b[39;00m \u001b[38;5;21m__call__\u001b[39m(\u001b[38;5;28mself\u001b[39m, pa_table: pa\u001b[38;5;241m.\u001b[39mTable, query_type: \u001b[38;5;28mstr\u001b[39m) \u001b[38;5;241m-\u001b[39m\u001b[38;5;241m>\u001b[39m Union[RowFormat, ColumnFormat, BatchFormat]:\n\u001b[1;32m    402\u001b[0m     \u001b[38;5;28;01mif\u001b[39;00m query_type \u001b[38;5;241m==\u001b[39m \u001b[38;5;124m\"\u001b[39m\u001b[38;5;124mrow\u001b[39m\u001b[38;5;124m\"\u001b[39m:\n\u001b[0;32m--> 403\u001b[0m         \u001b[38;5;28;01mreturn\u001b[39;00m \u001b[38;5;28;43mself\u001b[39;49m\u001b[38;5;241;43m.\u001b[39;49m\u001b[43mformat_row\u001b[49m\u001b[43m(\u001b[49m\u001b[43mpa_table\u001b[49m\u001b[43m)\u001b[49m\n\u001b[1;32m    404\u001b[0m     \u001b[38;5;28;01melif\u001b[39;00m query_type \u001b[38;5;241m==\u001b[39m \u001b[38;5;124m\"\u001b[39m\u001b[38;5;124mcolumn\u001b[39m\u001b[38;5;124m\"\u001b[39m:\n\u001b[1;32m    405\u001b[0m         \u001b[38;5;28;01mreturn\u001b[39;00m \u001b[38;5;28mself\u001b[39m\u001b[38;5;241m.\u001b[39mformat_column(pa_table)\n",
      "File \u001b[0;32m~/anaconda3/envs/rag/lib/python3.10/site-packages/datasets/formatting/formatting.py:443\u001b[0m, in \u001b[0;36mPythonFormatter.format_row\u001b[0;34m(self, pa_table)\u001b[0m\n\u001b[1;32m    441\u001b[0m \u001b[38;5;28;01mif\u001b[39;00m \u001b[38;5;28mself\u001b[39m\u001b[38;5;241m.\u001b[39mlazy:\n\u001b[1;32m    442\u001b[0m     \u001b[38;5;28;01mreturn\u001b[39;00m LazyRow(pa_table, \u001b[38;5;28mself\u001b[39m)\n\u001b[0;32m--> 443\u001b[0m row \u001b[38;5;241m=\u001b[39m \u001b[38;5;28;43mself\u001b[39;49m\u001b[38;5;241;43m.\u001b[39;49m\u001b[43mpython_arrow_extractor\u001b[49m\u001b[43m(\u001b[49m\u001b[43m)\u001b[49m\u001b[38;5;241;43m.\u001b[39;49m\u001b[43mextract_row\u001b[49m\u001b[43m(\u001b[49m\u001b[43mpa_table\u001b[49m\u001b[43m)\u001b[49m\n\u001b[1;32m    444\u001b[0m row \u001b[38;5;241m=\u001b[39m \u001b[38;5;28mself\u001b[39m\u001b[38;5;241m.\u001b[39mpython_features_decoder\u001b[38;5;241m.\u001b[39mdecode_row(row)\n\u001b[1;32m    445\u001b[0m \u001b[38;5;28;01mreturn\u001b[39;00m row\n",
      "File \u001b[0;32m~/anaconda3/envs/rag/lib/python3.10/site-packages/datasets/formatting/formatting.py:145\u001b[0m, in \u001b[0;36mPythonArrowExtractor.extract_row\u001b[0;34m(self, pa_table)\u001b[0m\n\u001b[1;32m    144\u001b[0m \u001b[38;5;28;01mdef\u001b[39;00m \u001b[38;5;21mextract_row\u001b[39m(\u001b[38;5;28mself\u001b[39m, pa_table: pa\u001b[38;5;241m.\u001b[39mTable) \u001b[38;5;241m-\u001b[39m\u001b[38;5;241m>\u001b[39m \u001b[38;5;28mdict\u001b[39m:\n\u001b[0;32m--> 145\u001b[0m     \u001b[38;5;28;01mreturn\u001b[39;00m _unnest(\u001b[43mpa_table\u001b[49m\u001b[38;5;241;43m.\u001b[39;49m\u001b[43mto_pydict\u001b[49m\u001b[43m(\u001b[49m\u001b[43m)\u001b[49m)\n",
      "File \u001b[0;32m~/anaconda3/envs/rag/lib/python3.10/site-packages/pyarrow/table.pxi:2030\u001b[0m, in \u001b[0;36mpyarrow.lib._Tabular.to_pydict\u001b[0;34m()\u001b[0m\n",
      "File \u001b[0;32m~/anaconda3/envs/rag/lib/python3.10/site-packages/pyarrow/table.pxi:1327\u001b[0m, in \u001b[0;36mpyarrow.lib.ChunkedArray.to_pylist\u001b[0;34m()\u001b[0m\n",
      "File \u001b[0;32m~/anaconda3/envs/rag/lib/python3.10/site-packages/pyarrow/array.pxi:1604\u001b[0m, in \u001b[0;36mpyarrow.lib.Array.to_pylist\u001b[0;34m()\u001b[0m\n",
      "File \u001b[0;32m~/anaconda3/envs/rag/lib/python3.10/site-packages/pyarrow/scalar.pxi:777\u001b[0m, in \u001b[0;36mpyarrow.lib.StructScalar.as_py\u001b[0;34m()\u001b[0m\n",
      "File \u001b[0;32m~/anaconda3/envs/rag/lib/python3.10/site-packages/pyarrow/scalar.pxi:777\u001b[0m, in \u001b[0;36mpyarrow.lib.StructScalar.as_py\u001b[0;34m()\u001b[0m\n",
      "File \u001b[0;32m~/anaconda3/envs/rag/lib/python3.10/_collections_abc.py:836\u001b[0m, in \u001b[0;36mMapping.keys\u001b[0;34m(self)\u001b[0m\n\u001b[1;32m    833\u001b[0m     \u001b[38;5;28;01melse\u001b[39;00m:\n\u001b[1;32m    834\u001b[0m         \u001b[38;5;28;01mreturn\u001b[39;00m \u001b[38;5;28;01mTrue\u001b[39;00m\n\u001b[0;32m--> 836\u001b[0m \u001b[38;5;28;01mdef\u001b[39;00m \u001b[38;5;21mkeys\u001b[39m(\u001b[38;5;28mself\u001b[39m):\n\u001b[1;32m    837\u001b[0m     \u001b[38;5;124m\"\u001b[39m\u001b[38;5;124mD.keys() -> a set-like object providing a view on D\u001b[39m\u001b[38;5;124m'\u001b[39m\u001b[38;5;124ms keys\u001b[39m\u001b[38;5;124m\"\u001b[39m\n\u001b[1;32m    838\u001b[0m     \u001b[38;5;28;01mreturn\u001b[39;00m KeysView(\u001b[38;5;28mself\u001b[39m)\n",
      "\u001b[0;31mKeyboardInterrupt\u001b[0m: "
     ]
    }
   ],
   "source": [
    "print(dataset[\"train\"])\n",
    "\n",
    "\n",
    "def compute_doc_ids(split_col):\n",
    "    document_id_list = []\n",
    "    print(f\"Number of data in {split_col} split: {len(dataset[split_col])}\")\n",
    "    \n",
    "    for data in dataset[split_col]:\n",
    "        doc = data[\"document\"]\n",
    "        document_id_list.append(doc[\"id\"])\n",
    "    print(f\"Number of documents in {split_col} split: {len(document_id_list)}\")\n",
    "    document_id_set = set(document_id_list)\n",
    "    print(f\"Number of documents in {split_col} split: {len(document_id_set)}\")\n",
    "    return document_id_set\n",
    "\n",
    "\n",
    "compute_doc_ids(\"train\")\n",
    "compute_doc_ids(\"test\")\n",
    "print(\"Done\")"
   ]
  },
  {
   "cell_type": "code",
   "execution_count": 14,
   "metadata": {},
   "outputs": [
    {
     "name": "stdout",
     "output_type": "stream",
     "text": [
      "dict_keys(['text', 'tokens', 'url', 'title'])\n"
     ]
    }
   ],
   "source": [
    "data_1 = dataset[\"train\"][0]\n",
    "for k, v in data_1[\"document\"].items():\n",
    "    if k == \"text\":\n",
    "        continue\n",
    "    # print(f\"{k} -- {v}\")\n",
    "\n",
    "print(data_1[\"document\"][\"summary\"].keys())\n",
    "\n",
    "data_1 = dataset[\"train\"][1]\n",
    "for k, v in data_1[\"document\"].items():\n",
    "    if k == \"text\":\n",
    "        continue\n",
    "    # print(f\"{k} -- {v}\")"
   ]
  },
  {
   "cell_type": "code",
   "execution_count": 6,
   "metadata": {},
   "outputs": [],
   "source": [
    "from tqdm import tqdm\n",
    "import os"
   ]
  },
  {
   "cell_type": "code",
   "execution_count": 7,
   "metadata": {},
   "outputs": [
    {
     "name": "stderr",
     "output_type": "stream",
     "text": [
      "  0%|          | 0/32747 [00:00<?, ?it/s]"
     ]
    },
    {
     "name": "stderr",
     "output_type": "stream",
     "text": [
      "100%|██████████| 32747/32747 [00:24<00:00, 1331.33it/s]\n"
     ]
    },
    {
     "name": "stdout",
     "output_type": "stream",
     "text": [
      "1102\n",
      "1102\n"
     ]
    },
    {
     "name": "stderr",
     "output_type": "stream",
     "text": [
      "100%|██████████| 10557/10557 [00:08<00:00, 1312.50it/s]"
     ]
    },
    {
     "name": "stdout",
     "output_type": "stream",
     "text": [
      "355\n",
      "355\n"
     ]
    },
    {
     "name": "stderr",
     "output_type": "stream",
     "text": [
      "\n"
     ]
    }
   ],
   "source": [
    "def get_document(split_col):\n",
    "    doc_list = []\n",
    "    doc_id_dict = {}\n",
    "    doc_cnt = 0\n",
    "    for data in tqdm(dataset[split_col], total=len(dataset[split_col])):\n",
    "        doc = data[\"document\"]\n",
    "        doc_id = doc[\"id\"]\n",
    "        if doc_id in doc_id_dict:\n",
    "            continue\n",
    "        doc_id_dict[doc_id] = doc_cnt\n",
    "        doc_cnt += 1\n",
    "        summary_str = doc[\"summary\"][\"title\"] + \"\\n\" + doc[\"summary\"][\"text\"]\n",
    "        doc_text = doc[\"text\"]\n",
    "        doc_str = summary_str + \"\\n\" + doc_text\n",
    "        doc_list.append(doc_str)\n",
    "    print(len(doc_list))\n",
    "    print(len(doc_id_dict))\n",
    "    return doc_list, doc_id_dict\n",
    "\n",
    "train_doc_list, train_doc_id_dict = get_document(\"train\")\n",
    "test_doc_list, test_doc_id_dict = get_document(\"test\")"
   ]
  },
  {
   "cell_type": "code",
   "execution_count": 9,
   "metadata": {},
   "outputs": [
    {
     "name": "stdout",
     "output_type": "stream",
     "text": [
      "Done\n"
     ]
    }
   ],
   "source": [
    "base_path = \"/mnt/data/wangshu/hcarag/narrativeqa/data\"\n",
    "\n",
    "train_base = base_path + \"/train\"\n",
    "os.makedirs(train_base, exist_ok=True)\n",
    "with open(train_base + \"/0_doc_id_dict.txt\", \"w\") as f:\n",
    "    for k, v in train_doc_id_dict.items():\n",
    "        f.write(f\"{k}\\t{v}\\n\")\n",
    "\n",
    "test_base = base_path + \"/test\"\n",
    "os.makedirs(test_base, exist_ok=True)\n",
    "with open(test_base + \"/0_doc_id_dict.txt\", \"w\") as f:\n",
    "    for k, v in test_doc_id_dict.items():\n",
    "        f.write(f\"{k}\\t{v}\\n\")\n",
    "\n",
    "for i, doc in enumerate(train_doc_list):\n",
    "    doc_i_dir = train_base + f\"/{i}\"\n",
    "    os.makedirs(doc_i_dir, exist_ok=True)\n",
    "    \n",
    "    graphrag_input_dir = doc_i_dir + \"/input\"\n",
    "    os.makedirs(graphrag_input_dir, exist_ok=True)\n",
    "    \n",
    "    hcarag_dir = doc_i_dir + \"/hcarag\"\n",
    "    os.makedirs(hcarag_dir, exist_ok=True)\n",
    "    with open(graphrag_input_dir + \"/doc.txt\", \"w\") as f:\n",
    "        f.write(doc)\n",
    "\n",
    "for i, doc in enumerate(test_doc_list):\n",
    "    doc_i_dir = test_base + f\"/{i}\"\n",
    "    os.makedirs(doc_i_dir, exist_ok=True)\n",
    "    \n",
    "    graphrag_input_dir = doc_i_dir + \"/input\"\n",
    "    os.makedirs(graphrag_input_dir, exist_ok=True)\n",
    "    \n",
    "    hcarag_dir = doc_i_dir + \"/hcarag\"\n",
    "    os.makedirs(hcarag_dir, exist_ok=True)\n",
    "    with open(graphrag_input_dir + \"/doc.txt\", \"w\") as f:\n",
    "        f.write(doc)\n",
    "\n",
    "print(\"Done\")"
   ]
  },
  {
   "cell_type": "code",
   "execution_count": 17,
   "metadata": {},
   "outputs": [
    {
     "name": "stderr",
     "output_type": "stream",
     "text": [
      "100%|██████████| 1102/1102 [01:02<00:00, 17.71it/s]"
     ]
    },
    {
     "name": "stdout",
     "output_type": "stream",
     "text": [
      "average number of tokens in train: 84327.3729582577\n"
     ]
    },
    {
     "name": "stderr",
     "output_type": "stream",
     "text": [
      "\n"
     ]
    }
   ],
   "source": [
    "import sys\n",
    "import os\n",
    "import pandas as pd\n",
    "\n",
    "sys.path.append(os.path.abspath(\"/home/wangshu/rag/hier_graph_rag/\"))\n",
    "from src.utils import num_tokens\n",
    "\n",
    "len_tokens_list = []\n",
    "for doc in tqdm(train_doc_list):\n",
    "    len_tokens_list.append(num_tokens(doc))\n",
    "\n",
    "print(f\"average number of tokens in train: {sum(len_tokens_list) / len(len_tokens_list)}\")\n",
    "train_info = pd.DataFrame(train_doc_id_dict.items(), columns=[\"doc_id\", \"doc_idx\"])\n",
    "train_info[\"len_tokens\"] = len_tokens_list"
   ]
  },
  {
   "cell_type": "code",
   "execution_count": 18,
   "metadata": {},
   "outputs": [
    {
     "name": "stderr",
     "output_type": "stream",
     "text": [
      "100%|██████████| 355/355 [00:19<00:00, 18.50it/s]"
     ]
    },
    {
     "name": "stdout",
     "output_type": "stream",
     "text": [
      "average number of tokens in test: 79503.3323943662\n"
     ]
    },
    {
     "name": "stderr",
     "output_type": "stream",
     "text": [
      "\n"
     ]
    }
   ],
   "source": [
    "len_tokens_list = []\n",
    "for doc in tqdm(test_doc_list):\n",
    "    len_tokens_list.append(num_tokens(doc))\n",
    "\n",
    "print(f\"average number of tokens in test: {sum(len_tokens_list) / len(len_tokens_list)}\")\n",
    "test_info = pd.DataFrame(test_doc_id_dict.items(), columns=[\"doc_id\", \"doc_idx\"])\n",
    "test_info[\"len_tokens\"] = len_tokens_list\n",
    "\n",
    "train_info.to_csv(train_base + \"/doc_info.csv\", index=False)\n",
    "test_info.to_csv(test_base + \"/doc_info.csv\", index=False)"
   ]
  },
  {
   "cell_type": "code",
   "execution_count": 19,
   "metadata": {},
   "outputs": [
    {
     "data": {
      "text/html": [
       "<div>\n",
       "<style scoped>\n",
       "    .dataframe tbody tr th:only-of-type {\n",
       "        vertical-align: middle;\n",
       "    }\n",
       "\n",
       "    .dataframe tbody tr th {\n",
       "        vertical-align: top;\n",
       "    }\n",
       "\n",
       "    .dataframe thead th {\n",
       "        text-align: right;\n",
       "    }\n",
       "</style>\n",
       "<table border=\"1\" class=\"dataframe\">\n",
       "  <thead>\n",
       "    <tr style=\"text-align: right;\">\n",
       "      <th></th>\n",
       "      <th>doc_id</th>\n",
       "      <th>doc_idx</th>\n",
       "      <th>len_tokens</th>\n",
       "    </tr>\n",
       "  </thead>\n",
       "  <tbody>\n",
       "    <tr>\n",
       "      <th>0</th>\n",
       "      <td>0029bdbe75423337b551e42bb31f9a102785376f</td>\n",
       "      <td>0</td>\n",
       "      <td>200781</td>\n",
       "    </tr>\n",
       "    <tr>\n",
       "      <th>1</th>\n",
       "      <td>00936497f5884881f1df23f4834f6739552cee8b</td>\n",
       "      <td>1</td>\n",
       "      <td>132963</td>\n",
       "    </tr>\n",
       "    <tr>\n",
       "      <th>2</th>\n",
       "      <td>00950a3641e6a28b04a6fabf6334140e2deaa9fd</td>\n",
       "      <td>2</td>\n",
       "      <td>21870</td>\n",
       "    </tr>\n",
       "    <tr>\n",
       "      <th>3</th>\n",
       "      <td>00ee9e01a0e581e0d8cbf7e865a895147c480c5e</td>\n",
       "      <td>3</td>\n",
       "      <td>68636</td>\n",
       "    </tr>\n",
       "    <tr>\n",
       "      <th>4</th>\n",
       "      <td>00f9dbb0a851bc6099d5216e5fa8719b2ac3b82b</td>\n",
       "      <td>4</td>\n",
       "      <td>52307</td>\n",
       "    </tr>\n",
       "    <tr>\n",
       "      <th>...</th>\n",
       "      <td>...</td>\n",
       "      <td>...</td>\n",
       "      <td>...</td>\n",
       "    </tr>\n",
       "    <tr>\n",
       "      <th>1097</th>\n",
       "      <td>fea54b235b1c054d1c90e87f57e3bfb64cbf3a5b</td>\n",
       "      <td>1097</td>\n",
       "      <td>48168</td>\n",
       "    </tr>\n",
       "    <tr>\n",
       "      <th>1098</th>\n",
       "      <td>febd3002298e75a9e9b5569500989766137608f8</td>\n",
       "      <td>1098</td>\n",
       "      <td>51218</td>\n",
       "    </tr>\n",
       "    <tr>\n",
       "      <th>1099</th>\n",
       "      <td>fee64a7ee5b0427d78d666770c064213f245884a</td>\n",
       "      <td>1099</td>\n",
       "      <td>27441</td>\n",
       "    </tr>\n",
       "    <tr>\n",
       "      <th>1100</th>\n",
       "      <td>ff53fd53a94f343b8365915645b79d7ad5b1528e</td>\n",
       "      <td>1100</td>\n",
       "      <td>62287</td>\n",
       "    </tr>\n",
       "    <tr>\n",
       "      <th>1101</th>\n",
       "      <td>ffae045d630abf7e4c282849d16819ceff60c2b0</td>\n",
       "      <td>1101</td>\n",
       "      <td>49164</td>\n",
       "    </tr>\n",
       "  </tbody>\n",
       "</table>\n",
       "<p>1102 rows × 3 columns</p>\n",
       "</div>"
      ],
      "text/plain": [
       "                                        doc_id  doc_idx  len_tokens\n",
       "0     0029bdbe75423337b551e42bb31f9a102785376f        0      200781\n",
       "1     00936497f5884881f1df23f4834f6739552cee8b        1      132963\n",
       "2     00950a3641e6a28b04a6fabf6334140e2deaa9fd        2       21870\n",
       "3     00ee9e01a0e581e0d8cbf7e865a895147c480c5e        3       68636\n",
       "4     00f9dbb0a851bc6099d5216e5fa8719b2ac3b82b        4       52307\n",
       "...                                        ...      ...         ...\n",
       "1097  fea54b235b1c054d1c90e87f57e3bfb64cbf3a5b     1097       48168\n",
       "1098  febd3002298e75a9e9b5569500989766137608f8     1098       51218\n",
       "1099  fee64a7ee5b0427d78d666770c064213f245884a     1099       27441\n",
       "1100  ff53fd53a94f343b8365915645b79d7ad5b1528e     1100       62287\n",
       "1101  ffae045d630abf7e4c282849d16819ceff60c2b0     1101       49164\n",
       "\n",
       "[1102 rows x 3 columns]"
      ]
     },
     "execution_count": 19,
     "metadata": {},
     "output_type": "execute_result"
    }
   ],
   "source": [
    "train_info"
   ]
  },
  {
   "cell_type": "code",
   "execution_count": 12,
   "metadata": {},
   "outputs": [
    {
     "name": "stdout",
     "output_type": "stream",
     "text": [
      "max number of tokens in train: 542289\n",
      "min number of tokens in train: 5146\n"
     ]
    }
   ],
   "source": [
    "print(f\"max number of tokens in train: {max(len_tokens_list)}\")\n",
    "print(f\"min number of tokens in train: {min(len_tokens_list)}\")"
   ]
  },
  {
   "cell_type": "code",
   "execution_count": 13,
   "metadata": {},
   "outputs": [
    {
     "name": "stdout",
     "output_type": "stream",
     "text": [
      "33750\n"
     ]
    }
   ],
   "source": [
    "temp_path = \"/home/wangshu/rag/graphrag/ragtest/input/thinkos.txt\"\n",
    "with open(temp_path, \"r\") as f:\n",
    "    str_list = f.readlines()\n",
    "    print(num_tokens(\"\".join(str_list)))"
   ]
  },
  {
   "cell_type": "code",
   "execution_count": 8,
   "metadata": {},
   "outputs": [],
   "source": [
    "save_dir = \"/mnt/data/wangshu/hcarag/narrativeqa/docs_graphrag/input\"\n",
    "for i in range(len(train_doc_list)):\n",
    "    with open(f\"{save_dir}/train_{i}.txt\", \"w\") as f:\n",
    "        f.write(train_doc_list[i])"
   ]
  },
  {
   "cell_type": "code",
   "execution_count": null,
   "metadata": {},
   "outputs": [
    {
     "name": "stdout",
     "output_type": "stream",
     "text": [
      "done\n"
     ]
    }
   ],
   "source": [
    "corpus_save_path = \"/mnt/data/wangshu/hcarag/narrativeqa/dataset/corpus.txt\"\n",
    "with open(corpus_save_path, \"w\") as f:\n",
    "    for doc in train_doc_list:\n",
    "        f.write(doc + \"\\n\")\n",
    "print(\"done\")"
   ]
  },
  {
   "cell_type": "code",
   "execution_count": null,
   "metadata": {},
   "outputs": [
    {
     "name": "stderr",
     "output_type": "stream",
     "text": [
      "100%|██████████| 32747/32747 [00:24<00:00, 1334.75it/s]\n"
     ]
    }
   ],
   "source": [
    "import pandas as pd\n",
    "def get_qa(split_col):\n",
    "    qa_list = []\n",
    "    for data in tqdm(dataset[split_col], total=len(dataset[split_col])):\n",
    "        ans = data[\"answers\"]\n",
    "        ans_list = []\n",
    "        for ans_text in ans:\n",
    "            text = ans_text[\"text\"]\n",
    "            text = text.strip().split(\",\")\n",
    "            ans_list.extend(text)\n",
    "        ans_list = list(set(ans_list))\n",
    "        question_str = data[\"question\"][\"text\"]\n",
    "        qa_list.append({\"question\": question_str, \"answers\": ans_list})\n",
    "    qa_df = pd.DataFrame(qa_list)\n",
    "    return qa_df\n",
    "\n",
    "qa_train = get_qa('train')"
   ]
  },
  {
   "cell_type": "code",
   "execution_count": null,
   "metadata": {},
   "outputs": [
    {
     "data": {
      "text/html": [
       "<div>\n",
       "<style scoped>\n",
       "    .dataframe tbody tr th:only-of-type {\n",
       "        vertical-align: middle;\n",
       "    }\n",
       "\n",
       "    .dataframe tbody tr th {\n",
       "        vertical-align: top;\n",
       "    }\n",
       "\n",
       "    .dataframe thead th {\n",
       "        text-align: right;\n",
       "    }\n",
       "</style>\n",
       "<table border=\"1\" class=\"dataframe\">\n",
       "  <thead>\n",
       "    <tr style=\"text-align: right;\">\n",
       "      <th></th>\n",
       "      <th>question</th>\n",
       "      <th>answers</th>\n",
       "      <th>label</th>\n",
       "    </tr>\n",
       "  </thead>\n",
       "  <tbody>\n",
       "    <tr>\n",
       "      <th>0</th>\n",
       "      <td>Who is Miss Delmer?</td>\n",
       "      <td>[She's Captail Delmar's aunt., the elderly spi...</td>\n",
       "      <td>She's Captail Delmar's aunt.|the elderly spins...</td>\n",
       "    </tr>\n",
       "    <tr>\n",
       "      <th>1</th>\n",
       "      <td>Who does Arabella Mason wed?</td>\n",
       "      <td>[Ben Keene,  Delmar's valet]</td>\n",
       "      <td>Ben Keene| Delmar's valet</td>\n",
       "    </tr>\n",
       "  </tbody>\n",
       "</table>\n",
       "</div>"
      ],
      "text/plain": [
       "                       question  \\\n",
       "0           Who is Miss Delmer?   \n",
       "1  Who does Arabella Mason wed?   \n",
       "\n",
       "                                             answers  \\\n",
       "0  [She's Captail Delmar's aunt., the elderly spi...   \n",
       "1                       [Ben Keene,  Delmar's valet]   \n",
       "\n",
       "                                               label  \n",
       "0  She's Captail Delmar's aunt.|the elderly spins...  \n",
       "1                          Ben Keene| Delmar's valet  "
      ]
     },
     "execution_count": 4,
     "metadata": {},
     "output_type": "execute_result"
    }
   ],
   "source": [
    "def process_gb_answer(x):\n",
    "        if isinstance(x, list):\n",
    "            return \"|\".join(map(str, x))\n",
    "        elif isinstance(x, str):\n",
    "            return x\n",
    "qa_train[\"label\"] = qa_train[\"answers\"].apply(process_gb_answer)\n",
    "\n",
    "\n",
    "file_path_save_qa = \"/mnt/data/wangshu/hcarag/narrativeqa/dataset/narrativeqa.json\"\n",
    "qa_train.to_json(file_path_save_qa, orient='records', lines=True )\n",
    "\n",
    "\n",
    "qa_train.head(2)"
   ]
  },
  {
   "cell_type": "code",
   "execution_count": 9,
   "metadata": {},
   "outputs": [
    {
     "name": "stdout",
     "output_type": "stream",
     "text": [
      "8870500\n"
     ]
    }
   ],
   "source": [
    "corpus_path = \"/mnt/data/wangshu/hcarag/narrativeqa/graphrag_io/input/corpus.txt\"\n",
    "with open(corpus_path, \"r\") as f:\n",
    "    corpus_data = f.readlines()\n",
    "    print(len(corpus_data))\n",
    "import sys\n",
    "import os\n",
    "\n",
    "sys.path.append(os.path.abspath(\"/home/wangshu/rag/hier_graph_rag/\"))\n",
    "from src.utils import num_tokens\n",
    "from tqdm import tqdm\n"
   ]
  },
  {
   "cell_type": "code",
   "execution_count": 10,
   "metadata": {},
   "outputs": [
    {
     "data": {
      "text/plain": [
       "2037"
      ]
     },
     "execution_count": 10,
     "metadata": {},
     "output_type": "execute_result"
    }
   ],
   "source": [
    "str_1 = \"\"\"\n",
    "-Goal-\n",
    "Given a text document that is potentially relevant to this activity and a list of entity types, identify all entities of those types from the text and all relationships among the identified entities.\n",
    " \n",
    "-Steps-\n",
    "1. Identify all entities. For each identified entity, extract the following information:\n",
    "- entity_name: Name of the entity, capitalized\n",
    "- entity_type: One of the following types: [{entity_types}]\n",
    "- entity_description: Comprehensive description of the entity's attributes and activities\n",
    "Format each entity as (\"entity\"{tuple_delimiter}<entity_name>{tuple_delimiter}<entity_type>{tuple_delimiter}<entity_description>)\n",
    " \n",
    "2. From the entities identified in step 1, identify all pairs of (source_entity, target_entity) that are *clearly related* to each other.\n",
    "For each pair of related entities, extract the following information:\n",
    "- source_entity: name of the source entity, as identified in step 1\n",
    "- target_entity: name of the target entity, as identified in step 1\n",
    "- relationship_description: explanation as to why you think the source entity and the target entity are related to each other\n",
    "- relationship_strength: a numeric score indicating strength of the relationship between the source entity and target entity\n",
    " Format each relationship as (\"relationship\"{tuple_delimiter}<source_entity>{tuple_delimiter}<target_entity>{tuple_delimiter}<relationship_description>{tuple_delimiter}<relationship_strength>)\n",
    " \n",
    "3. Return output in English as a single list of all the entities and relationships identified in steps 1 and 2. Use **{record_delimiter}** as the list delimiter.\n",
    " \n",
    "4. When finished, output {completion_delimiter}\n",
    " \n",
    "######################\n",
    "-Examples-\n",
    "######################\n",
    "Example 1:\n",
    "Entity_types: ORGANIZATION,PERSON\n",
    "Text:\n",
    "The Verdantis's Central Institution is scheduled to meet on Monday and Thursday, with the institution planning to release its latest policy decision on Thursday at 1:30 p.m. PDT, followed by a press conference where Central Institution Chair Martin Smith will take questions. Investors expect the Market Strategy Committee to hold its benchmark interest rate steady in a range of 3.5%-3.75%.\n",
    "######################\n",
    "Output:\n",
    "(\"entity\"{tuple_delimiter}CENTRAL INSTITUTION{tuple_delimiter}ORGANIZATION{tuple_delimiter}The Central Institution is the Federal Reserve of Verdantis, which is setting interest rates on Monday and Thursday)\n",
    "{record_delimiter}\n",
    "(\"entity\"{tuple_delimiter}MARTIN SMITH{tuple_delimiter}PERSON{tuple_delimiter}Martin Smith is the chair of the Central Institution)\n",
    "{record_delimiter}\n",
    "(\"entity\"{tuple_delimiter}MARKET STRATEGY COMMITTEE{tuple_delimiter}ORGANIZATION{tuple_delimiter}The Central Institution committee makes key decisions about interest rates and the growth of Verdantis's money supply)\n",
    "{record_delimiter}\n",
    "(\"relationship\"{tuple_delimiter}MARTIN SMITH{tuple_delimiter}CENTRAL INSTITUTION{tuple_delimiter}Martin Smith is the Chair of the Central Institution and will answer questions at a press conference{tuple_delimiter}9)\n",
    "{completion_delimiter}\n",
    "\n",
    "######################\n",
    "Example 2:\n",
    "Entity_types: ORGANIZATION\n",
    "Text:\n",
    "TechGlobal's (TG) stock skyrocketed in its opening day on the Global Exchange Thursday. But IPO experts warn that the semiconductor corporation's debut on the public markets isn't indicative of how other newly listed companies may perform.\n",
    "\n",
    "TechGlobal, a formerly public company, was taken private by Vision Holdings in 2014. The well-established chip designer says it powers 85% of premium smartphones.\n",
    "######################\n",
    "Output:\n",
    "(\"entity\"{tuple_delimiter}TECHGLOBAL{tuple_delimiter}ORGANIZATION{tuple_delimiter}TechGlobal is a stock now listed on the Global Exchange which powers 85% of premium smartphones)\n",
    "{record_delimiter}\n",
    "(\"entity\"{tuple_delimiter}VISION HOLDINGS{tuple_delimiter}ORGANIZATION{tuple_delimiter}Vision Holdings is a firm that previously owned TechGlobal)\n",
    "{record_delimiter}\n",
    "(\"relationship\"{tuple_delimiter}TECHGLOBAL{tuple_delimiter}VISION HOLDINGS{tuple_delimiter}Vision Holdings formerly owned TechGlobal from 2014 until present{tuple_delimiter}5)\n",
    "{completion_delimiter}\n",
    "\n",
    "######################\n",
    "Example 3:\n",
    "Entity_types: ORGANIZATION,GEO,PERSON\n",
    "Text:\n",
    "Five Aurelians jailed for 8 years in Firuzabad and widely regarded as hostages are on their way home to Aurelia.\n",
    "\n",
    "The swap orchestrated by Quintara was finalized when $8bn of Firuzi funds were transferred to financial institutions in Krohaara, the capital of Quintara.\n",
    "\n",
    "The exchange initiated in Firuzabad's capital, Tiruzia, led to the four men and one woman, who are also Firuzi nationals, boarding a chartered flight to Krohaara.\n",
    "\n",
    "They were welcomed by senior Aurelian officials and are now on their way to Aurelia's capital, Cashion.\n",
    "\n",
    "The Aurelians include 39-year-old businessman Samuel Namara, who has been held in Tiruzia's Alhamia Prison, as well as journalist Durke Bataglani, 59, and environmentalist Meggie Tazbah, 53, who also holds Bratinas nationality.\n",
    "######################\n",
    "Output:\n",
    "(\"entity\"{tuple_delimiter}FIRUZABAD{tuple_delimiter}GEO{tuple_delimiter}Firuzabad held Aurelians as hostages)\n",
    "{record_delimiter}\n",
    "(\"entity\"{tuple_delimiter}AURELIA{tuple_delimiter}GEO{tuple_delimiter}Country seeking to release hostages)\n",
    "{record_delimiter}\n",
    "(\"entity\"{tuple_delimiter}QUINTARA{tuple_delimiter}GEO{tuple_delimiter}Country that negotiated a swap of money in exchange for hostages)\n",
    "{record_delimiter}\n",
    "{record_delimiter}\n",
    "(\"entity\"{tuple_delimiter}TIRUZIA{tuple_delimiter}GEO{tuple_delimiter}Capital of Firuzabad where the Aurelians were being held)\n",
    "{record_delimiter}\n",
    "(\"entity\"{tuple_delimiter}KROHAARA{tuple_delimiter}GEO{tuple_delimiter}Capital city in Quintara)\n",
    "{record_delimiter}\n",
    "(\"entity\"{tuple_delimiter}CASHION{tuple_delimiter}GEO{tuple_delimiter}Capital city in Aurelia)\n",
    "{record_delimiter}\n",
    "(\"entity\"{tuple_delimiter}SAMUEL NAMARA{tuple_delimiter}PERSON{tuple_delimiter}Aurelian who spent time in Tiruzia's Alhamia Prison)\n",
    "{record_delimiter}\n",
    "(\"entity\"{tuple_delimiter}ALHAMIA PRISON{tuple_delimiter}GEO{tuple_delimiter}Prison in Tiruzia)\n",
    "{record_delimiter}\n",
    "(\"entity\"{tuple_delimiter}DURKE BATAGLANI{tuple_delimiter}PERSON{tuple_delimiter}Aurelian journalist who was held hostage)\n",
    "{record_delimiter}\n",
    "(\"entity\"{tuple_delimiter}MEGGIE TAZBAH{tuple_delimiter}PERSON{tuple_delimiter}Bratinas national and environmentalist who was held hostage)\n",
    "{record_delimiter}\n",
    "(\"relationship\"{tuple_delimiter}FIRUZABAD{tuple_delimiter}AURELIA{tuple_delimiter}Firuzabad negotiated a hostage exchange with Aurelia{tuple_delimiter}2)\n",
    "{record_delimiter}\n",
    "(\"relationship\"{tuple_delimiter}QUINTARA{tuple_delimiter}AURELIA{tuple_delimiter}Quintara brokered the hostage exchange between Firuzabad and Aurelia{tuple_delimiter}2)\n",
    "{record_delimiter}\n",
    "(\"relationship\"{tuple_delimiter}QUINTARA{tuple_delimiter}FIRUZABAD{tuple_delimiter}Quintara brokered the hostage exchange between Firuzabad and Aurelia{tuple_delimiter}2)\n",
    "{record_delimiter}\n",
    "(\"relationship\"{tuple_delimiter}SAMUEL NAMARA{tuple_delimiter}ALHAMIA PRISON{tuple_delimiter}Samuel Namara was a prisoner at Alhamia prison{tuple_delimiter}8)\n",
    "{record_delimiter}\n",
    "(\"relationship\"{tuple_delimiter}SAMUEL NAMARA{tuple_delimiter}MEGGIE TAZBAH{tuple_delimiter}Samuel Namara and Meggie Tazbah were exchanged in the same hostage release{tuple_delimiter}2)\n",
    "{record_delimiter}\n",
    "(\"relationship\"{tuple_delimiter}SAMUEL NAMARA{tuple_delimiter}DURKE BATAGLANI{tuple_delimiter}Samuel Namara and Durke Bataglani were exchanged in the same hostage release{tuple_delimiter}2)\n",
    "{record_delimiter}\n",
    "(\"relationship\"{tuple_delimiter}MEGGIE TAZBAH{tuple_delimiter}DURKE BATAGLANI{tuple_delimiter}Meggie Tazbah and Durke Bataglani were exchanged in the same hostage release{tuple_delimiter}2)\n",
    "{record_delimiter}\n",
    "(\"relationship\"{tuple_delimiter}SAMUEL NAMARA{tuple_delimiter}FIRUZABAD{tuple_delimiter}Samuel Namara was a hostage in Firuzabad{tuple_delimiter}2)\n",
    "{record_delimiter}\n",
    "(\"relationship\"{tuple_delimiter}MEGGIE TAZBAH{tuple_delimiter}FIRUZABAD{tuple_delimiter}Meggie Tazbah was a hostage in Firuzabad{tuple_delimiter}2)\n",
    "{record_delimiter}\n",
    "(\"relationship\"{tuple_delimiter}DURKE BATAGLANI{tuple_delimiter}FIRUZABAD{tuple_delimiter}Durke Bataglani was a hostage in Firuzabad{tuple_delimiter}2)\n",
    "{completion_delimiter}\n",
    "\n",
    "######################\n",
    "-Real Data-\n",
    "######################\n",
    "Entity_types: {entity_types}\n",
    "Text: {input_text}\n",
    "######################\n",
    "Output:\"\"\"\n",
    "\n",
    "num_tokens(str_1)"
   ]
  },
  {
   "cell_type": "code",
   "execution_count": null,
   "metadata": {},
   "outputs": [],
   "source": [
    "\n",
    "all_token = 0\n",
    "for doc in tqdm(corpus_data):\n",
    "    all_token += num_tokens(doc)\n",
    "\n",
    "print(all_token)\n"
   ]
  }
 ],
 "metadata": {
  "kernelspec": {
   "display_name": "rag",
   "language": "python",
   "name": "python3"
  },
  "language_info": {
   "codemirror_mode": {
    "name": "ipython",
    "version": 3
   },
   "file_extension": ".py",
   "mimetype": "text/x-python",
   "name": "python",
   "nbconvert_exporter": "python",
   "pygments_lexer": "ipython3",
   "version": "3.10.14"
  }
 },
 "nbformat": 4,
 "nbformat_minor": 2
}
