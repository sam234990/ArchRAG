{
 "cells": [
  {
   "cell_type": "code",
   "execution_count": 11,
   "metadata": {},
   "outputs": [
    {
     "data": {
      "application/vnd.jupyter.widget-view+json": {
       "model_id": "80ceb52dd3e54492a2b8ac0d31d92a2b",
       "version_major": 2,
       "version_minor": 0
      },
      "text/plain": [
       "Resolving data files:   0%|          | 0/25 [00:00<?, ?it/s]"
      ]
     },
     "metadata": {},
     "output_type": "display_data"
    },
    {
     "data": {
      "application/vnd.jupyter.widget-view+json": {
       "model_id": "58b06ad51d9648e3bd1bc7ea9c271890",
       "version_major": 2,
       "version_minor": 0
      },
      "text/plain": [
       "Loading dataset shards:   0%|          | 0/18 [00:00<?, ?it/s]"
      ]
     },
     "metadata": {},
     "output_type": "display_data"
    }
   ],
   "source": [
    "from datasets import load_dataset\n",
    "\n",
    "dataset_path = \"/mnt/data/wangshu/hcarag/narrativeqa\"\n",
    "dataset = load_dataset(dataset_path)"
   ]
  },
  {
   "cell_type": "code",
   "execution_count": 12,
   "metadata": {},
   "outputs": [
    {
     "name": "stdout",
     "output_type": "stream",
     "text": [
      "Dataset({\n",
      "    features: ['document', 'question', 'answers'],\n",
      "    num_rows: 32747\n",
      "})\n",
      "Number of documents in train split: 32747\n",
      "Number of documents in train split: 1102\n",
      "Number of documents in test split: 10557\n",
      "Number of documents in test split: 355\n",
      "Done\n"
     ]
    }
   ],
   "source": [
    "print(dataset[\"train\"])\n",
    "\n",
    "\n",
    "def compute_doc_ids(split_col):\n",
    "    document_id_list = []\n",
    "    \n",
    "    for data in dataset[split_col]:\n",
    "        doc = data[\"document\"]\n",
    "        document_id_list.append(doc[\"id\"])\n",
    "    print(f\"Number of documents in {split_col} split: {len(document_id_list)}\")\n",
    "    document_id_set = set(document_id_list)\n",
    "    print(f\"Number of documents in {split_col} split: {len(document_id_set)}\")\n",
    "    return document_id_set\n",
    "\n",
    "\n",
    "compute_doc_ids(\"train\")\n",
    "compute_doc_ids(\"test\")\n",
    "print(\"Done\")"
   ]
  },
  {
   "cell_type": "code",
   "execution_count": 14,
   "metadata": {},
   "outputs": [
    {
     "name": "stdout",
     "output_type": "stream",
     "text": [
      "dict_keys(['text', 'tokens', 'url', 'title'])\n"
     ]
    }
   ],
   "source": [
    "data_1 = dataset[\"train\"][0]\n",
    "for k, v in data_1[\"document\"].items():\n",
    "    if k == \"text\":\n",
    "        continue\n",
    "    # print(f\"{k} -- {v}\")\n",
    "\n",
    "print(data_1[\"document\"][\"summary\"].keys())\n",
    "\n",
    "data_1 = dataset[\"train\"][1]\n",
    "for k, v in data_1[\"document\"].items():\n",
    "    if k == \"text\":\n",
    "        continue\n",
    "    # print(f\"{k} -- {v}\")"
   ]
  },
  {
   "cell_type": "code",
   "execution_count": 5,
   "metadata": {},
   "outputs": [],
   "source": [
    "from tqdm import tqdm\n"
   ]
  },
  {
   "cell_type": "code",
   "execution_count": 6,
   "metadata": {},
   "outputs": [
    {
     "name": "stderr",
     "output_type": "stream",
     "text": [
      "100%|██████████| 32747/32747 [00:25<00:00, 1305.35it/s]"
     ]
    },
    {
     "name": "stdout",
     "output_type": "stream",
     "text": [
      "1102\n"
     ]
    },
    {
     "name": "stderr",
     "output_type": "stream",
     "text": [
      "\n"
     ]
    }
   ],
   "source": [
    "def get_document(split_col):\n",
    "    doc_id_set = set()\n",
    "    doc_list = []\n",
    "    for data in tqdm(dataset[split_col], total=len(dataset[split_col])):\n",
    "        doc = data[\"document\"]\n",
    "        doc_id = doc[\"id\"]\n",
    "        if doc_id in doc_id_set:\n",
    "            continue\n",
    "        doc_id_set.add(doc_id)\n",
    "        summary_str = doc[\"summary\"][\"title\"] + \"\\n\" + doc[\"summary\"][\"text\"]\n",
    "        doc_text = doc[\"text\"]\n",
    "        doc_str = summary_str + \"\\n\" + doc_text\n",
    "        doc_list.append(doc_str)\n",
    "    print(len(doc_id_set))\n",
    "    return doc_list\n",
    "\n",
    "\n",
    "train_doc_list = get_document(\"train\")"
   ]
  },
  {
   "cell_type": "code",
   "execution_count": 8,
   "metadata": {},
   "outputs": [],
   "source": [
    "save_dir = \"/mnt/data/wangshu/hcarag/narrativeqa/docs_graphrag/input\"\n",
    "for i in range(len(train_doc_list)):\n",
    "    with open(f\"{save_dir}/train_{i}.txt\", \"w\") as f:\n",
    "        f.write(train_doc_list[i])"
   ]
  },
  {
   "cell_type": "code",
   "execution_count": null,
   "metadata": {},
   "outputs": [
    {
     "name": "stdout",
     "output_type": "stream",
     "text": [
      "done\n"
     ]
    }
   ],
   "source": [
    "corpus_save_path = \"/mnt/data/wangshu/hcarag/narrativeqa/dataset/corpus.txt\"\n",
    "with open(corpus_save_path, \"w\") as f:\n",
    "    for doc in train_doc_list:\n",
    "        f.write(doc + \"\\n\")\n",
    "print(\"done\")"
   ]
  },
  {
   "cell_type": "code",
   "execution_count": null,
   "metadata": {},
   "outputs": [
    {
     "name": "stderr",
     "output_type": "stream",
     "text": [
      "100%|██████████| 32747/32747 [00:24<00:00, 1334.75it/s]\n"
     ]
    }
   ],
   "source": [
    "import pandas as pd\n",
    "def get_qa(split_col):\n",
    "    qa_list = []\n",
    "    for data in tqdm(dataset[split_col], total=len(dataset[split_col])):\n",
    "        ans = data[\"answers\"]\n",
    "        ans_list = []\n",
    "        for ans_text in ans:\n",
    "            text = ans_text[\"text\"]\n",
    "            text = text.strip().split(\",\")\n",
    "            ans_list.extend(text)\n",
    "        ans_list = list(set(ans_list))\n",
    "        question_str = data[\"question\"][\"text\"]\n",
    "        qa_list.append({\"question\": question_str, \"answers\": ans_list})\n",
    "    qa_df = pd.DataFrame(qa_list)\n",
    "    return qa_df\n",
    "\n",
    "qa_train = get_qa('train')"
   ]
  },
  {
   "cell_type": "code",
   "execution_count": null,
   "metadata": {},
   "outputs": [
    {
     "data": {
      "text/html": [
       "<div>\n",
       "<style scoped>\n",
       "    .dataframe tbody tr th:only-of-type {\n",
       "        vertical-align: middle;\n",
       "    }\n",
       "\n",
       "    .dataframe tbody tr th {\n",
       "        vertical-align: top;\n",
       "    }\n",
       "\n",
       "    .dataframe thead th {\n",
       "        text-align: right;\n",
       "    }\n",
       "</style>\n",
       "<table border=\"1\" class=\"dataframe\">\n",
       "  <thead>\n",
       "    <tr style=\"text-align: right;\">\n",
       "      <th></th>\n",
       "      <th>question</th>\n",
       "      <th>answers</th>\n",
       "      <th>label</th>\n",
       "    </tr>\n",
       "  </thead>\n",
       "  <tbody>\n",
       "    <tr>\n",
       "      <th>0</th>\n",
       "      <td>Who is Miss Delmer?</td>\n",
       "      <td>[She's Captail Delmar's aunt., the elderly spi...</td>\n",
       "      <td>She's Captail Delmar's aunt.|the elderly spins...</td>\n",
       "    </tr>\n",
       "    <tr>\n",
       "      <th>1</th>\n",
       "      <td>Who does Arabella Mason wed?</td>\n",
       "      <td>[Ben Keene,  Delmar's valet]</td>\n",
       "      <td>Ben Keene| Delmar's valet</td>\n",
       "    </tr>\n",
       "  </tbody>\n",
       "</table>\n",
       "</div>"
      ],
      "text/plain": [
       "                       question  \\\n",
       "0           Who is Miss Delmer?   \n",
       "1  Who does Arabella Mason wed?   \n",
       "\n",
       "                                             answers  \\\n",
       "0  [She's Captail Delmar's aunt., the elderly spi...   \n",
       "1                       [Ben Keene,  Delmar's valet]   \n",
       "\n",
       "                                               label  \n",
       "0  She's Captail Delmar's aunt.|the elderly spins...  \n",
       "1                          Ben Keene| Delmar's valet  "
      ]
     },
     "execution_count": 4,
     "metadata": {},
     "output_type": "execute_result"
    }
   ],
   "source": [
    "def process_gb_answer(x):\n",
    "        if isinstance(x, list):\n",
    "            return \"|\".join(map(str, x))\n",
    "        elif isinstance(x, str):\n",
    "            return x\n",
    "qa_train[\"label\"] = qa_train[\"answers\"].apply(process_gb_answer)\n",
    "\n",
    "\n",
    "file_path_save_qa = \"/mnt/data/wangshu/hcarag/narrativeqa/dataset/narrativeqa.json\"\n",
    "qa_train.to_json(file_path_save_qa, orient='records', lines=True )\n",
    "\n",
    "\n",
    "qa_train.head(2)"
   ]
  },
  {
   "cell_type": "code",
   "execution_count": 9,
   "metadata": {},
   "outputs": [
    {
     "name": "stdout",
     "output_type": "stream",
     "text": [
      "8870500\n"
     ]
    }
   ],
   "source": [
    "corpus_path = \"/mnt/data/wangshu/hcarag/narrativeqa/graphrag_io/input/corpus.txt\"\n",
    "with open(corpus_path, \"r\") as f:\n",
    "    corpus_data = f.readlines()\n",
    "    print(len(corpus_data))\n",
    "import sys\n",
    "import os\n",
    "\n",
    "sys.path.append(os.path.abspath(\"/home/wangshu/rag/hier_graph_rag/\"))\n",
    "from src.utils import num_tokens\n",
    "from tqdm import tqdm\n"
   ]
  },
  {
   "cell_type": "code",
   "execution_count": 10,
   "metadata": {},
   "outputs": [
    {
     "data": {
      "text/plain": [
       "2037"
      ]
     },
     "execution_count": 10,
     "metadata": {},
     "output_type": "execute_result"
    }
   ],
   "source": [
    "str_1 = \"\"\"\n",
    "-Goal-\n",
    "Given a text document that is potentially relevant to this activity and a list of entity types, identify all entities of those types from the text and all relationships among the identified entities.\n",
    " \n",
    "-Steps-\n",
    "1. Identify all entities. For each identified entity, extract the following information:\n",
    "- entity_name: Name of the entity, capitalized\n",
    "- entity_type: One of the following types: [{entity_types}]\n",
    "- entity_description: Comprehensive description of the entity's attributes and activities\n",
    "Format each entity as (\"entity\"{tuple_delimiter}<entity_name>{tuple_delimiter}<entity_type>{tuple_delimiter}<entity_description>)\n",
    " \n",
    "2. From the entities identified in step 1, identify all pairs of (source_entity, target_entity) that are *clearly related* to each other.\n",
    "For each pair of related entities, extract the following information:\n",
    "- source_entity: name of the source entity, as identified in step 1\n",
    "- target_entity: name of the target entity, as identified in step 1\n",
    "- relationship_description: explanation as to why you think the source entity and the target entity are related to each other\n",
    "- relationship_strength: a numeric score indicating strength of the relationship between the source entity and target entity\n",
    " Format each relationship as (\"relationship\"{tuple_delimiter}<source_entity>{tuple_delimiter}<target_entity>{tuple_delimiter}<relationship_description>{tuple_delimiter}<relationship_strength>)\n",
    " \n",
    "3. Return output in English as a single list of all the entities and relationships identified in steps 1 and 2. Use **{record_delimiter}** as the list delimiter.\n",
    " \n",
    "4. When finished, output {completion_delimiter}\n",
    " \n",
    "######################\n",
    "-Examples-\n",
    "######################\n",
    "Example 1:\n",
    "Entity_types: ORGANIZATION,PERSON\n",
    "Text:\n",
    "The Verdantis's Central Institution is scheduled to meet on Monday and Thursday, with the institution planning to release its latest policy decision on Thursday at 1:30 p.m. PDT, followed by a press conference where Central Institution Chair Martin Smith will take questions. Investors expect the Market Strategy Committee to hold its benchmark interest rate steady in a range of 3.5%-3.75%.\n",
    "######################\n",
    "Output:\n",
    "(\"entity\"{tuple_delimiter}CENTRAL INSTITUTION{tuple_delimiter}ORGANIZATION{tuple_delimiter}The Central Institution is the Federal Reserve of Verdantis, which is setting interest rates on Monday and Thursday)\n",
    "{record_delimiter}\n",
    "(\"entity\"{tuple_delimiter}MARTIN SMITH{tuple_delimiter}PERSON{tuple_delimiter}Martin Smith is the chair of the Central Institution)\n",
    "{record_delimiter}\n",
    "(\"entity\"{tuple_delimiter}MARKET STRATEGY COMMITTEE{tuple_delimiter}ORGANIZATION{tuple_delimiter}The Central Institution committee makes key decisions about interest rates and the growth of Verdantis's money supply)\n",
    "{record_delimiter}\n",
    "(\"relationship\"{tuple_delimiter}MARTIN SMITH{tuple_delimiter}CENTRAL INSTITUTION{tuple_delimiter}Martin Smith is the Chair of the Central Institution and will answer questions at a press conference{tuple_delimiter}9)\n",
    "{completion_delimiter}\n",
    "\n",
    "######################\n",
    "Example 2:\n",
    "Entity_types: ORGANIZATION\n",
    "Text:\n",
    "TechGlobal's (TG) stock skyrocketed in its opening day on the Global Exchange Thursday. But IPO experts warn that the semiconductor corporation's debut on the public markets isn't indicative of how other newly listed companies may perform.\n",
    "\n",
    "TechGlobal, a formerly public company, was taken private by Vision Holdings in 2014. The well-established chip designer says it powers 85% of premium smartphones.\n",
    "######################\n",
    "Output:\n",
    "(\"entity\"{tuple_delimiter}TECHGLOBAL{tuple_delimiter}ORGANIZATION{tuple_delimiter}TechGlobal is a stock now listed on the Global Exchange which powers 85% of premium smartphones)\n",
    "{record_delimiter}\n",
    "(\"entity\"{tuple_delimiter}VISION HOLDINGS{tuple_delimiter}ORGANIZATION{tuple_delimiter}Vision Holdings is a firm that previously owned TechGlobal)\n",
    "{record_delimiter}\n",
    "(\"relationship\"{tuple_delimiter}TECHGLOBAL{tuple_delimiter}VISION HOLDINGS{tuple_delimiter}Vision Holdings formerly owned TechGlobal from 2014 until present{tuple_delimiter}5)\n",
    "{completion_delimiter}\n",
    "\n",
    "######################\n",
    "Example 3:\n",
    "Entity_types: ORGANIZATION,GEO,PERSON\n",
    "Text:\n",
    "Five Aurelians jailed for 8 years in Firuzabad and widely regarded as hostages are on their way home to Aurelia.\n",
    "\n",
    "The swap orchestrated by Quintara was finalized when $8bn of Firuzi funds were transferred to financial institutions in Krohaara, the capital of Quintara.\n",
    "\n",
    "The exchange initiated in Firuzabad's capital, Tiruzia, led to the four men and one woman, who are also Firuzi nationals, boarding a chartered flight to Krohaara.\n",
    "\n",
    "They were welcomed by senior Aurelian officials and are now on their way to Aurelia's capital, Cashion.\n",
    "\n",
    "The Aurelians include 39-year-old businessman Samuel Namara, who has been held in Tiruzia's Alhamia Prison, as well as journalist Durke Bataglani, 59, and environmentalist Meggie Tazbah, 53, who also holds Bratinas nationality.\n",
    "######################\n",
    "Output:\n",
    "(\"entity\"{tuple_delimiter}FIRUZABAD{tuple_delimiter}GEO{tuple_delimiter}Firuzabad held Aurelians as hostages)\n",
    "{record_delimiter}\n",
    "(\"entity\"{tuple_delimiter}AURELIA{tuple_delimiter}GEO{tuple_delimiter}Country seeking to release hostages)\n",
    "{record_delimiter}\n",
    "(\"entity\"{tuple_delimiter}QUINTARA{tuple_delimiter}GEO{tuple_delimiter}Country that negotiated a swap of money in exchange for hostages)\n",
    "{record_delimiter}\n",
    "{record_delimiter}\n",
    "(\"entity\"{tuple_delimiter}TIRUZIA{tuple_delimiter}GEO{tuple_delimiter}Capital of Firuzabad where the Aurelians were being held)\n",
    "{record_delimiter}\n",
    "(\"entity\"{tuple_delimiter}KROHAARA{tuple_delimiter}GEO{tuple_delimiter}Capital city in Quintara)\n",
    "{record_delimiter}\n",
    "(\"entity\"{tuple_delimiter}CASHION{tuple_delimiter}GEO{tuple_delimiter}Capital city in Aurelia)\n",
    "{record_delimiter}\n",
    "(\"entity\"{tuple_delimiter}SAMUEL NAMARA{tuple_delimiter}PERSON{tuple_delimiter}Aurelian who spent time in Tiruzia's Alhamia Prison)\n",
    "{record_delimiter}\n",
    "(\"entity\"{tuple_delimiter}ALHAMIA PRISON{tuple_delimiter}GEO{tuple_delimiter}Prison in Tiruzia)\n",
    "{record_delimiter}\n",
    "(\"entity\"{tuple_delimiter}DURKE BATAGLANI{tuple_delimiter}PERSON{tuple_delimiter}Aurelian journalist who was held hostage)\n",
    "{record_delimiter}\n",
    "(\"entity\"{tuple_delimiter}MEGGIE TAZBAH{tuple_delimiter}PERSON{tuple_delimiter}Bratinas national and environmentalist who was held hostage)\n",
    "{record_delimiter}\n",
    "(\"relationship\"{tuple_delimiter}FIRUZABAD{tuple_delimiter}AURELIA{tuple_delimiter}Firuzabad negotiated a hostage exchange with Aurelia{tuple_delimiter}2)\n",
    "{record_delimiter}\n",
    "(\"relationship\"{tuple_delimiter}QUINTARA{tuple_delimiter}AURELIA{tuple_delimiter}Quintara brokered the hostage exchange between Firuzabad and Aurelia{tuple_delimiter}2)\n",
    "{record_delimiter}\n",
    "(\"relationship\"{tuple_delimiter}QUINTARA{tuple_delimiter}FIRUZABAD{tuple_delimiter}Quintara brokered the hostage exchange between Firuzabad and Aurelia{tuple_delimiter}2)\n",
    "{record_delimiter}\n",
    "(\"relationship\"{tuple_delimiter}SAMUEL NAMARA{tuple_delimiter}ALHAMIA PRISON{tuple_delimiter}Samuel Namara was a prisoner at Alhamia prison{tuple_delimiter}8)\n",
    "{record_delimiter}\n",
    "(\"relationship\"{tuple_delimiter}SAMUEL NAMARA{tuple_delimiter}MEGGIE TAZBAH{tuple_delimiter}Samuel Namara and Meggie Tazbah were exchanged in the same hostage release{tuple_delimiter}2)\n",
    "{record_delimiter}\n",
    "(\"relationship\"{tuple_delimiter}SAMUEL NAMARA{tuple_delimiter}DURKE BATAGLANI{tuple_delimiter}Samuel Namara and Durke Bataglani were exchanged in the same hostage release{tuple_delimiter}2)\n",
    "{record_delimiter}\n",
    "(\"relationship\"{tuple_delimiter}MEGGIE TAZBAH{tuple_delimiter}DURKE BATAGLANI{tuple_delimiter}Meggie Tazbah and Durke Bataglani were exchanged in the same hostage release{tuple_delimiter}2)\n",
    "{record_delimiter}\n",
    "(\"relationship\"{tuple_delimiter}SAMUEL NAMARA{tuple_delimiter}FIRUZABAD{tuple_delimiter}Samuel Namara was a hostage in Firuzabad{tuple_delimiter}2)\n",
    "{record_delimiter}\n",
    "(\"relationship\"{tuple_delimiter}MEGGIE TAZBAH{tuple_delimiter}FIRUZABAD{tuple_delimiter}Meggie Tazbah was a hostage in Firuzabad{tuple_delimiter}2)\n",
    "{record_delimiter}\n",
    "(\"relationship\"{tuple_delimiter}DURKE BATAGLANI{tuple_delimiter}FIRUZABAD{tuple_delimiter}Durke Bataglani was a hostage in Firuzabad{tuple_delimiter}2)\n",
    "{completion_delimiter}\n",
    "\n",
    "######################\n",
    "-Real Data-\n",
    "######################\n",
    "Entity_types: {entity_types}\n",
    "Text: {input_text}\n",
    "######################\n",
    "Output:\"\"\"\n",
    "\n",
    "num_tokens(str_1)"
   ]
  },
  {
   "cell_type": "code",
   "execution_count": null,
   "metadata": {},
   "outputs": [],
   "source": [
    "\n",
    "all_token = 0\n",
    "for doc in tqdm(corpus_data):\n",
    "    all_token += num_tokens(doc)\n",
    "\n",
    "print(all_token)\n"
   ]
  }
 ],
 "metadata": {
  "kernelspec": {
   "display_name": "rag",
   "language": "python",
   "name": "python3"
  },
  "language_info": {
   "codemirror_mode": {
    "name": "ipython",
    "version": 3
   },
   "file_extension": ".py",
   "mimetype": "text/x-python",
   "name": "python",
   "nbconvert_exporter": "python",
   "pygments_lexer": "ipython3",
   "version": "3.10.14"
  }
 },
 "nbformat": 4,
 "nbformat_minor": 2
}
