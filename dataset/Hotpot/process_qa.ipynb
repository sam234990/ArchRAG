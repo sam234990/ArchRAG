{
 "cells": [
  {
   "cell_type": "code",
   "execution_count": 1,
   "metadata": {},
   "outputs": [
    {
     "data": {
      "text/html": [
       "<div>\n",
       "<style scoped>\n",
       "    .dataframe tbody tr th:only-of-type {\n",
       "        vertical-align: middle;\n",
       "    }\n",
       "\n",
       "    .dataframe tbody tr th {\n",
       "        vertical-align: top;\n",
       "    }\n",
       "\n",
       "    .dataframe thead th {\n",
       "        text-align: right;\n",
       "    }\n",
       "</style>\n",
       "<table border=\"1\" class=\"dataframe\">\n",
       "  <thead>\n",
       "    <tr style=\"text-align: right;\">\n",
       "      <th></th>\n",
       "      <th>_id</th>\n",
       "      <th>answer</th>\n",
       "      <th>question</th>\n",
       "      <th>supporting_facts</th>\n",
       "      <th>context</th>\n",
       "      <th>type</th>\n",
       "      <th>level</th>\n",
       "    </tr>\n",
       "  </thead>\n",
       "  <tbody>\n",
       "    <tr>\n",
       "      <th>0</th>\n",
       "      <td>5ae7882b554299540e5a55dd</td>\n",
       "      <td>great-grandfather</td>\n",
       "      <td>What relationship does Fred Gehrke have to the...</td>\n",
       "      <td>[[Fred Gehrke, 4], [Christian Yelich, 1]]</td>\n",
       "      <td>[[Fred Gehrke, [Clarence Fred Gehrke (April 24...</td>\n",
       "      <td>bridge</td>\n",
       "      <td>hard</td>\n",
       "    </tr>\n",
       "    <tr>\n",
       "      <th>1</th>\n",
       "      <td>5ae678915542996d980e7b70</td>\n",
       "      <td>Chickamauga Wars</td>\n",
       "      <td>What was the other name for the war between th...</td>\n",
       "      <td>[[Battle of Hightower, 0], [Cherokee–American ...</td>\n",
       "      <td>[[Waterloo Bay massacre, [The Waterloo Bay mas...</td>\n",
       "      <td>bridge</td>\n",
       "      <td>hard</td>\n",
       "    </tr>\n",
       "  </tbody>\n",
       "</table>\n",
       "</div>"
      ],
      "text/plain": [
       "                        _id             answer  \\\n",
       "0  5ae7882b554299540e5a55dd  great-grandfather   \n",
       "1  5ae678915542996d980e7b70   Chickamauga Wars   \n",
       "\n",
       "                                            question  \\\n",
       "0  What relationship does Fred Gehrke have to the...   \n",
       "1  What was the other name for the war between th...   \n",
       "\n",
       "                                    supporting_facts  \\\n",
       "0          [[Fred Gehrke, 4], [Christian Yelich, 1]]   \n",
       "1  [[Battle of Hightower, 0], [Cherokee–American ...   \n",
       "\n",
       "                                             context    type level  \n",
       "0  [[Fred Gehrke, [Clarence Fred Gehrke (April 24...  bridge  hard  \n",
       "1  [[Waterloo Bay massacre, [The Waterloo Bay mas...  bridge  hard  "
      ]
     },
     "execution_count": 1,
     "metadata": {},
     "output_type": "execute_result"
    }
   ],
   "source": [
    "import pandas as pd\n",
    "\n",
    "file_qa = \"/mnt/data/wangshu/hcarag/HotpotQA/dataset/hotpotqa.json\"\n",
    "qa_df_raw = pd.read_json(file_qa)\n",
    "\n",
    "qa_df_raw.head(2)\n"
   ]
  },
  {
   "cell_type": "code",
   "execution_count": null,
   "metadata": {},
   "outputs": [
    {
     "data": {
      "text/html": [
       "<div>\n",
       "<style scoped>\n",
       "    .dataframe tbody tr th:only-of-type {\n",
       "        vertical-align: middle;\n",
       "    }\n",
       "\n",
       "    .dataframe tbody tr th {\n",
       "        vertical-align: top;\n",
       "    }\n",
       "\n",
       "    .dataframe thead th {\n",
       "        text-align: right;\n",
       "    }\n",
       "</style>\n",
       "<table border=\"1\" class=\"dataframe\">\n",
       "  <thead>\n",
       "    <tr style=\"text-align: right;\">\n",
       "      <th></th>\n",
       "      <th>question</th>\n",
       "      <th>answers</th>\n",
       "      <th>label</th>\n",
       "    </tr>\n",
       "  </thead>\n",
       "  <tbody>\n",
       "    <tr>\n",
       "      <th>0</th>\n",
       "      <td>What relationship does Fred Gehrke have to the...</td>\n",
       "      <td>great-grandfather</td>\n",
       "      <td>great-grandfather</td>\n",
       "    </tr>\n",
       "    <tr>\n",
       "      <th>1</th>\n",
       "      <td>What was the other name for the war between th...</td>\n",
       "      <td>Chickamauga Wars</td>\n",
       "      <td>Chickamauga Wars</td>\n",
       "    </tr>\n",
       "  </tbody>\n",
       "</table>\n",
       "</div>"
      ],
      "text/plain": [
       "                                            question            answers  \\\n",
       "0  What relationship does Fred Gehrke have to the...  great-grandfather   \n",
       "1  What was the other name for the war between th...   Chickamauga Wars   \n",
       "\n",
       "               label  \n",
       "0  great-grandfather  \n",
       "1   Chickamauga Wars  "
      ]
     },
     "execution_count": 2,
     "metadata": {},
     "output_type": "execute_result"
    }
   ],
   "source": [
    "qa_df = qa_df_raw.copy()\n",
    "qa_df = qa_df[[\"question\", \"answer\"]]\n",
    "qa_df.columns = [\"question\", \"answers\"]\n",
    "\n",
    "\n",
    "def process_gb_answer(x):\n",
    "        if isinstance(x, list):\n",
    "            return \"|\".join(map(str, x))\n",
    "        elif isinstance(x, str):\n",
    "            return x\n",
    "qa_df[\"label\"] = qa_df[\"answers\"].apply(process_gb_answer)\n",
    "\n",
    "\n",
    "file_save_path = \"/mnt/data/wangshu/hcarag/HotpotQA/dataset/eval_hotpot_qa.json\"\n",
    "qa_df.to_json(file_save_path, orient=\"records\", lines=True)\n",
    "qa_df.head(2)"
   ]
  },
  {
   "cell_type": "code",
   "execution_count": 8,
   "metadata": {},
   "outputs": [
    {
     "data": {
      "text/plain": [
       "1.3184663536776213"
      ]
     },
     "execution_count": 8,
     "metadata": {},
     "output_type": "execute_result"
    }
   ],
   "source": [
    "ans_split = qa_df_raw['answer'].str.split(' ')\n",
    "average_len = sum(len(i) for i in ans_split) / len(ans_split)\n",
    "average_len"
   ]
  }
 ],
 "metadata": {
  "kernelspec": {
   "display_name": "rag",
   "language": "python",
   "name": "python3"
  },
  "language_info": {
   "codemirror_mode": {
    "name": "ipython",
    "version": 3
   },
   "file_extension": ".py",
   "mimetype": "text/x-python",
   "name": "python",
   "nbconvert_exporter": "python",
   "pygments_lexer": "ipython3",
   "version": "3.10.14"
  }
 },
 "nbformat": 4,
 "nbformat_minor": 2
}
