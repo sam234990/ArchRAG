{
 "cells": [
  {
   "cell_type": "code",
   "execution_count": 4,
   "metadata": {},
   "outputs": [
    {
     "data": {
      "text/plain": [
       "['Clarence Fred Gehrke (April 24, 1918 – February 9, 2002) was an American football player and executive.',\n",
       " ' He played in the National Football League (NFL) for the Cleveland / Los Angeles Rams, San Francisco 49ers and Chicago Cardinals from 1940 through 1950.',\n",
       " ' To boost team morale, Gehrke designed and painted the Los Angeles Rams logo in 1948, which was the first painted on the helmets of an NFL team.',\n",
       " ' He later served as the general manager of the Denver Broncos from 1977 through 1981.',\n",
       " ' He is the great-grandfather of Miami Marlin Christian Yelich']"
      ]
     },
     "execution_count": 4,
     "metadata": {},
     "output_type": "execute_result"
    }
   ],
   "source": [
    "import json\n",
    "import pandas as pd\n",
    "import os\n",
    "\n",
    "\n",
    "data_path = \"/mnt/data/wangshu/hcarag/HotpotQA/dataset/hotpotqa_corpus.json\"\n",
    "\n",
    "# 假设你的 JSON 数据保存在一个名为 data.json 的文件中\n",
    "with open(data_path, 'r', encoding='utf-8') as file:\n",
    "    data = json.load(file)\n",
    "\n",
    "data['Fred Gehrke']"
   ]
  },
  {
   "cell_type": "code",
   "execution_count": 9,
   "metadata": {},
   "outputs": [
    {
     "name": "stdout",
     "output_type": "stream",
     "text": [
      "(9221, 3)\n"
     ]
    },
    {
     "data": {
      "text/html": [
       "<div>\n",
       "<style scoped>\n",
       "    .dataframe tbody tr th:only-of-type {\n",
       "        vertical-align: middle;\n",
       "    }\n",
       "\n",
       "    .dataframe tbody tr th {\n",
       "        vertical-align: top;\n",
       "    }\n",
       "\n",
       "    .dataframe thead th {\n",
       "        text-align: right;\n",
       "    }\n",
       "</style>\n",
       "<table border=\"1\" class=\"dataframe\">\n",
       "  <thead>\n",
       "    <tr style=\"text-align: right;\">\n",
       "      <th></th>\n",
       "      <th>title</th>\n",
       "      <th>content</th>\n",
       "      <th>id</th>\n",
       "    </tr>\n",
       "  </thead>\n",
       "  <tbody>\n",
       "    <tr>\n",
       "      <th>0</th>\n",
       "      <td>Fred Gehrke</td>\n",
       "      <td>Clarence Fred Gehrke (April 24, 1918 – Februar...</td>\n",
       "      <td>0</td>\n",
       "    </tr>\n",
       "    <tr>\n",
       "      <th>1</th>\n",
       "      <td>Manny Machado</td>\n",
       "      <td>Manuel Arturo Machado (] ; born July 6, 1992) ...</td>\n",
       "      <td>1</td>\n",
       "    </tr>\n",
       "  </tbody>\n",
       "</table>\n",
       "</div>"
      ],
      "text/plain": [
       "           title                                            content  id\n",
       "0    Fred Gehrke  Clarence Fred Gehrke (April 24, 1918 – Februar...   0\n",
       "1  Manny Machado  Manuel Arturo Machado (] ; born July 6, 1992) ...   1"
      ]
     },
     "execution_count": 9,
     "metadata": {},
     "output_type": "execute_result"
    }
   ],
   "source": [
    "title_set = set()\n",
    "all_title_list = []\n",
    "for k, v in data.items():\n",
    "    if k not in title_set:\n",
    "        all_title_list.append({\"title\": k, \"content\": \"\\n\\n\".join(v)})\n",
    "\n",
    "    title_set.add(k)\n",
    "\n",
    "corpus_df = pd.DataFrame(all_title_list)\n",
    "corpus_df[\"id\"] = range(corpus_df.shape[0])\n",
    "print(corpus_df.shape)\n",
    "corpus_df.head(2)"
   ]
  },
  {
   "cell_type": "code",
   "execution_count": 10,
   "metadata": {},
   "outputs": [],
   "source": [
    "save_path = \"/mnt/data/wangshu/hcarag/HotpotQA/dataset/rag_hotpotqa_corpus.json\"\n",
    "corpus_df.to_json(save_path, orient='records', lines=True)"
   ]
  },
  {
   "cell_type": "code",
   "execution_count": 2,
   "metadata": {},
   "outputs": [
    {
     "name": "stdout",
     "output_type": "stream",
     "text": [
      "9221\n",
      "Fred Gehrke:\n",
      " - Clarence Fred Gehrke (April 24, 1918 – February 9, 2002) was an American football player and executive.\n",
      " -  He played in the National Football League (NFL) for the Cleveland / Los Angeles Rams, San Francisco 49ers and Chicago Cardinals from 1940 through 1950.\n",
      " -  To boost team morale, Gehrke designed and painted the Los Angeles Rams logo in 1948, which was the first painted on the helmets of an NFL team.\n",
      " -  He later served as the general manager of the Denver Broncos from 1977 through 1981.\n",
      " -  He is the great-grandfather of Miami Marlin Christian Yelich\n"
     ]
    }
   ],
   "source": [
    "# 构建段落字符串\n",
    "paragraphs = []\n",
    "for player, info in data.items():\n",
    "    paragraph = f\"{player}:\\n\" + \"\\n\".join(f\" - {detail}\" for detail in info)\n",
    "    paragraphs.append(paragraph)\n",
    "\n",
    "# 将所有段落合并成一个字符串\n",
    "result = \"\\n\\n\".join(paragraphs)\n",
    "\n",
    "# 打印结果\n",
    "print(len(paragraphs))\n",
    "print(paragraphs[0])"
   ]
  },
  {
   "cell_type": "code",
   "execution_count": 5,
   "metadata": {},
   "outputs": [
    {
     "name": "stdout",
     "output_type": "stream",
     "text": [
      "结果已保存到 output.txt\n"
     ]
    }
   ],
   "source": [
    "# 保存结果到文件\n",
    "save_path = \"/mnt/data/wangshu/hcarag/HotpotQA/dataset/hotpotqa_corpus.txt\"\n",
    "with open(save_path, 'w', encoding='utf-8') as output_file:\n",
    "    output_file.write(result)\n",
    "\n",
    "print(\"结果已保存到 output.txt\")"
   ]
  }
 ],
 "metadata": {
  "kernelspec": {
   "display_name": "rag",
   "language": "python",
   "name": "python3"
  },
  "language_info": {
   "codemirror_mode": {
    "name": "ipython",
    "version": 3
   },
   "file_extension": ".py",
   "mimetype": "text/x-python",
   "name": "python",
   "nbconvert_exporter": "python",
   "pygments_lexer": "ipython3",
   "version": "3.10.14"
  }
 },
 "nbformat": 4,
 "nbformat_minor": 2
}
