{
 "cells": [
  {
   "cell_type": "code",
   "execution_count": 2,
   "metadata": {},
   "outputs": [],
   "source": [
    "import json\n",
    "import pandas as pd\n",
    "import os\n",
    "\n",
    "\n",
    "data_path = \"/mnt/data/wangshu/hcarag/HotpotQA/dataset/hotpotqa_corpus.json\"\n",
    "\n",
    "# 假设你的 JSON 数据保存在一个名为 data.json 的文件中\n",
    "with open(data_path, 'r', encoding='utf-8') as file:\n",
    "    data = json.load(file)\n",
    "\n",
    "data"
   ]
  },
  {
   "cell_type": "code",
   "execution_count": 4,
   "metadata": {},
   "outputs": [
    {
     "name": "stdout",
     "output_type": "stream",
     "text": [
      "Fred Gehrke:\n",
      " - Clarence Fred Gehrke (April 24, 1918 – February 9, 2002) was an American football player and executive.\n",
      " -  He played in the National Football League (NFL) for the Cleveland / Los Angeles Rams, San Francisco 49ers and Chicago Cardinals from 1940 through 1950.\n",
      " -  To boost team morale, Gehrke designed and painted the Los Angeles Rams logo in 1948, which was the first painted on the helmets of an NFL team.\n",
      " -  He later served as the general manager of the Denver Broncos from 1977 through 1981.\n",
      " -  He is the great-grandfather of Miami Marlin Christian Yelich\n"
     ]
    }
   ],
   "source": [
    "# 构建段落字符串\n",
    "paragraphs = []\n",
    "for player, info in data.items():\n",
    "    paragraph = f\"{player}:\\n\" + \"\\n\".join(f\" - {detail}\" for detail in info)\n",
    "    paragraphs.append(paragraph)\n",
    "\n",
    "# 将所有段落合并成一个字符串\n",
    "result = \"\\n\\n\".join(paragraphs)\n",
    "\n",
    "# 打印结果\n",
    "# print(result)\n",
    "print(paragraphs[0])"
   ]
  },
  {
   "cell_type": "code",
   "execution_count": 5,
   "metadata": {},
   "outputs": [
    {
     "name": "stdout",
     "output_type": "stream",
     "text": [
      "结果已保存到 output.txt\n"
     ]
    }
   ],
   "source": [
    "# 保存结果到文件\n",
    "save_path = \"/mnt/data/wangshu/hcarag/HotpotQA/dataset/hotpotqa_corpus.txt\"\n",
    "with open(save_path, 'w', encoding='utf-8') as output_file:\n",
    "    output_file.write(result)\n",
    "\n",
    "print(\"结果已保存到 output.txt\")"
   ]
  }
 ],
 "metadata": {
  "kernelspec": {
   "display_name": "rag",
   "language": "python",
   "name": "python3"
  },
  "language_info": {
   "codemirror_mode": {
    "name": "ipython",
    "version": 3
   },
   "file_extension": ".py",
   "mimetype": "text/x-python",
   "name": "python",
   "nbconvert_exporter": "python",
   "pygments_lexer": "ipython3",
   "version": "3.10.14"
  }
 },
 "nbformat": 4,
 "nbformat_minor": 2
}
