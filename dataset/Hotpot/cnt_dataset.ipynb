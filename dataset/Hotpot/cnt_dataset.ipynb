{
 "cells": [
  {
   "cell_type": "code",
   "execution_count": 2,
   "metadata": {},
   "outputs": [
    {
     "name": "stdout",
     "output_type": "stream",
     "text": [
      "/home/wangshu/rag/hier_graph_rag\n"
     ]
    },
    {
     "name": "stderr",
     "output_type": "stream",
     "text": [
      "100%|██████████| 56676/56676 [00:01<00:00, 39306.23it/s]"
     ]
    },
    {
     "name": "stdout",
     "output_type": "stream",
     "text": [
      "1284956\n"
     ]
    },
    {
     "name": "stderr",
     "output_type": "stream",
     "text": [
      "\n"
     ]
    }
   ],
   "source": [
    "import os\n",
    "import sys\n",
    "\n",
    "project_path = \"/home/wangshu/rag/hier_graph_rag\"\n",
    "sys.path.append(os.path.abspath(project_path))\n",
    "print(project_path)\n",
    "\n",
    "from src.utils import num_tokens\n",
    "from tqdm import tqdm\n",
    "\n",
    "\n",
    "save_path = \"/mnt/data/wangshu/hcarag/HotpotQA/dataset/hotpotqa_corpus.txt\"\n",
    "\n",
    "# 假设你的 JSON 数据保存在一个名为 data.json 的文件中\n",
    "with open(save_path, 'r', encoding='utf-8') as file:\n",
    "    data_lines = file.readlines()\n",
    "    \n",
    "all_token = 0\n",
    "for line in tqdm(data_lines):\n",
    "    all_token += num_tokens(line)\n",
    "\n",
    "print(all_token)\n",
    "    "
   ]
  },
  {
   "cell_type": "code",
   "execution_count": null,
   "metadata": {},
   "outputs": [],
   "source": []
  }
 ],
 "metadata": {
  "kernelspec": {
   "display_name": "rag",
   "language": "python",
   "name": "python3"
  },
  "language_info": {
   "codemirror_mode": {
    "name": "ipython",
    "version": 3
   },
   "file_extension": ".py",
   "mimetype": "text/x-python",
   "name": "python",
   "nbconvert_exporter": "python",
   "pygments_lexer": "ipython3",
   "version": "3.10.14"
  }
 },
 "nbformat": 4,
 "nbformat_minor": 2
}
